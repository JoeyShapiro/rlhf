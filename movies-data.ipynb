{
 "cells": [
  {
   "cell_type": "markdown",
   "metadata": {},
   "source": [
    "## Movies Dataset"
   ]
  },
  {
   "cell_type": "code",
   "execution_count": 1,
   "metadata": {},
   "outputs": [],
   "source": [
    "import requests\n",
    "import json\n",
    "import time\n",
    "import tqdm\n",
    "import csv\n",
    "import pandas as pd\n",
    "\n",
    "import matplotlib.pyplot as plt\n",
    "from matplotlib_venn import venn3, venn3_circles"
   ]
  },
  {
   "cell_type": "markdown",
   "metadata": {},
   "source": [
    "### Setup IMDB"
   ]
  },
  {
   "cell_type": "code",
   "execution_count": 4,
   "metadata": {},
   "outputs": [],
   "source": [
    "with open('secrets.json') as f:\n",
    "    secrets = json.load(f)"
   ]
  },
  {
   "cell_type": "code",
   "execution_count": 11,
   "metadata": {},
   "outputs": [
    {
     "name": "stdout",
     "output_type": "stream",
     "text": [
      "{\"page\":1,\"results\":[{\"adult\":false,\"backdrop_path\":\"/4woSOUD0equAYzvwhWBHIJDCM88.jpg\",\"genre_ids\":[28,27,53],\"id\":1096197,\"original_language\":\"en\",\"original_title\":\"No Way Up\",\"overview\":\"Characters from different backgrounds are thrown together when the plane they're travelling on crashes into the Pacific Ocean. A nightmare fight for survival ensues with the air supply running out and dangers creeping in from all sides.\",\"popularity\":2853.409,\"poster_path\":\"/hu40Uxp9WtpL34jv3zyWLb5zEVY.jpg\",\"release_date\":\"2024-01-18\",\"title\":\"No Way Up\",\"video\":false,\"vote_average\":5.662,\"vote_count\":65},{\"adult\":false,\"backdrop_path\":\"/oBIQDKcqNxKckjugtmzpIIOgoc4.jpg\",\"genre_ids\":[28,53,10752],\"id\":969492,\"original_language\":\"en\",\"original_title\":\"Land of Bad\",\"overview\":\"When a Delta Force special ops mission goes terribly wrong, Air Force drone pilot Reaper has 48 hours to remedy what has devolved into a wild rescue operation. With no weapons and no communication other than the drone above, the ground mission suddenly becomes a full-scale battle when the team is discovered by the enemy.\",\"popularity\":2089.144,\"poster_path\":\"/h3jYanWMEJq6JJsCopy1h7cT2Hs.jpg\",\"release_date\":\"2024-01-25\",\"title\":\"Land of Bad\",\"video\":false,\"vote_average\":7.028,\"vote_count\":197},{\"adult\":false,\"backdrop_path\":\"/nTPFkLUARmo1bYHfkfdNpRKgEOs.jpg\",\"genre_ids\":[35,10749],\"id\":1072790,\"original_language\":\"en\",\"original_title\":\"Anyone But You\",\"overview\":\"After an amazing first date, Bea and Ben’s fiery attraction turns ice cold — until they find themselves unexpectedly reunited at a destination wedding in Australia. So they do what any two mature adults would do: pretend to be a couple.\",\"popularity\":1454.065,\"poster_path\":\"/yRt7MGBElkLQOYRvLTT1b3B1rcp.jpg\",\"release_date\":\"2023-12-21\",\"title\":\"Anyone But You\",\"video\":false,\"vote_average\":6.894,\"vote_count\":682},{\"adult\":false,\"backdrop_path\":\"/meyhnvssZOPPjud4F1CjOb4snET.jpg\",\"genre_ids\":[16,28,12,35,10751],\"id\":940551,\"original_language\":\"en\",\"original_title\":\"Migration\",\"overview\":\"After a migrating duck family alights on their pond with thrilling tales of far-flung places, the Mallard family embarks on a family road trip, from New England, to New York City, to tropical Jamaica.\",\"popularity\":1063.373,\"poster_path\":\"/ldfCF9RhR40mppkzmftxapaHeTo.jpg\",\"release_date\":\"2023-12-06\",\"title\":\"Migration\",\"video\":false,\"vote_average\":7.628,\"vote_count\":781},{\"adult\":false,\"backdrop_path\":\"/s9YTxwaByYeoSqugYjJJtZjMRAG.jpg\",\"genre_ids\":[28,27,35,53],\"id\":1211483,\"original_language\":\"en\",\"original_title\":\"Skal - Fight for Survival\",\"overview\":\"My name's Arthur, a huge Internet star who's just hit 3 million subs. While in the midst of throwing an epic party to celebrate, the universe had the balls to bring on the effing apocalypse and cut my night short. What was supposed to be a perfect hangover, has turned into an epic fight for survival.\",\"popularity\":1015.329,\"poster_path\":\"/1On8iF3AsFIbpyfZg1xiGWMAFBn.jpg\",\"release_date\":\"2023-11-24\",\"title\":\"Skal - Fight for Survival\",\"video\":false,\"vote_average\":5.375,\"vote_count\":40},{\"adult\":false,\"backdrop_path\":\"/cIHFTyIf0LjRzjSnwtCAGzwTOKK.jpg\",\"genre_ids\":[28,53],\"id\":931642,\"original_language\":\"en\",\"original_title\":\"Lights Out\",\"overview\":\"A drifting ex-soldier turns underground fighter with the help of a just-released ex-con, pitting him against corrupt cops and hired killers now gunning for him and all those he cares about.\",\"popularity\":978.741,\"poster_path\":\"/usDIBB0hOqLM8wMSGistfqxjukZ.jpg\",\"release_date\":\"2024-02-16\",\"title\":\"Lights Out\",\"video\":false,\"vote_average\":6.9,\"vote_count\":33},{\"adult\":false,\"backdrop_path\":\"/qBQV4i2sjIydDJUKm7pwvpyfy5p.jpg\",\"genre_ids\":[878,12],\"id\":693134,\"original_language\":\"en\",\"original_title\":\"Dune: Part Two\",\"overview\":\"Follow the mythic journey of Paul Atreides as he unites with Chani and the Fremen while on a path of revenge against the conspirators who destroyed his family. Facing a choice between the love of his life and the fate of the known universe, Paul endeavors to prevent a terrible future only he can foresee.\",\"popularity\":897.378,\"poster_path\":\"/mFnF8tpPMqEwti2J2aMhYGZYdv0.jpg\",\"release_date\":\"2024-02-27\",\"title\":\"Dune: Part Two\",\"video\":false,\"vote_average\":8.506,\"vote_count\":87},{\"adult\":false,\"backdrop_path\":\"/jp5MBWKaDVBuzaSFHTHGc9kpu51.jpg\",\"genre_ids\":[878,10749,35],\"id\":792307,\"original_language\":\"en\",\"original_title\":\"Poor Things\",\"overview\":\"Brought back to life by an unorthodox scientist, a young woman runs off with a debauched lawyer on a whirlwind adventure across the continents. Free from the prejudices of her times, she grows steadfast in her purpose to stand for equality and liberation.\",\"popularity\":858.647,\"poster_path\":\"/kCGlIMHnOm8JPXq3rXM6c5wMxcT.jpg\",\"release_date\":\"2023-12-07\",\"title\":\"Poor Things\",\"video\":false,\"vote_average\":8.102,\"vote_count\":1443},{\"adult\":false,\"backdrop_path\":\"/yOm993lsJyPmBodlYjgpPwBjXP9.jpg\",\"genre_ids\":[35,10751,14],\"id\":787699,\"original_language\":\"en\",\"original_title\":\"Wonka\",\"overview\":\"Willy Wonka – chock-full of ideas and determined to change the world one delectable bite at a time – is proof that the best things in life begin with a dream, and if you’re lucky enough to meet Willy Wonka, anything is possible.\",\"popularity\":818.783,\"poster_path\":\"/qhb1qOilapbapxWQn9jtRCMwXJF.jpg\",\"release_date\":\"2023-12-06\",\"title\":\"Wonka\",\"video\":false,\"vote_average\":7.2,\"vote_count\":2302},{\"adult\":false,\"backdrop_path\":\"/1QuloKG6VhFB94BhjX7VknKsNmZ.jpg\",\"genre_ids\":[18,53],\"id\":1026436,\"original_language\":\"en\",\"original_title\":\"Miller's Girl\",\"overview\":\"A precocious young writer becomes involved with her high school creative writing teacher in a dark coming-of-age drama that examines the blurred lines of emotional connectivity between professor and protégé.\",\"popularity\":808.082,\"poster_path\":\"/wKCKKur7LyGFaUHmNhvy7FhIjmC.jpg\",\"release_date\":\"2024-01-18\",\"title\":\"Miller's Girl\",\"video\":false,\"vote_average\":6.57,\"vote_count\":129},{\"adult\":false,\"backdrop_path\":\"/feSiISwgEpVzR1v3zv2n2AU4ANJ.jpg\",\"genre_ids\":[878,12,28],\"id\":609681,\"original_language\":\"en\",\"original_title\":\"The Marvels\",\"overview\":\"Carol Danvers, aka Captain Marvel, has reclaimed her identity from the tyrannical Kree and taken revenge on the Supreme Intelligence. But unintended consequences see Carol shouldering the burden of a destabilized universe. When her duties send her to an anomalous wormhole linked to a Kree revolutionary, her powers become entangled with that of Jersey City super-fan Kamala Khan, aka Ms. Marvel, and Carol’s estranged niece, now S.A.B.E.R. astronaut Captain Monica Rambeau. Together, this unlikely trio must team up and learn to work in concert to save the universe.\",\"popularity\":788.96,\"poster_path\":\"/9GBhzXMFjgcZ3FdR9w3bUMMTps5.jpg\",\"release_date\":\"2023-11-08\",\"title\":\"The Marvels\",\"video\":false,\"vote_average\":6.256,\"vote_count\":1909},{\"adult\":false,\"backdrop_path\":\"/lzWHmYdfeFiMIY4JaMmtR7GEli3.jpg\",\"genre_ids\":[878,12],\"id\":438631,\"original_language\":\"en\",\"original_title\":\"Dune\",\"overview\":\"Paul Atreides, a brilliant and gifted young man born into a great destiny beyond his understanding, must travel to the most dangerous planet in the universe to ensure the future of his family and his people. As malevolent forces explode into conflict over the planet's exclusive supply of the most precious resource in existence-a commodity capable of unlocking humanity's greatest potential-only those who can conquer their fear will survive.\",\"popularity\":715.692,\"poster_path\":\"/d5NXSklXo0qyIYkgV94XAgMIckC.jpg\",\"release_date\":\"2021-09-15\",\"title\":\"Dune\",\"video\":false,\"vote_average\":7.787,\"vote_count\":10229},{\"adult\":false,\"backdrop_path\":\"/iWzu3dVJGNfQUkLfK9xpTWoi5mh.jpg\",\"genre_ids\":[10749,18,35],\"id\":1139566,\"original_language\":\"es\",\"original_title\":\"A través de mi ventana 3: A través de tu mirada\",\"overview\":\"After the events of the summer, Ares and Raquel they don't see a way forward in their relationship and decide to go separate ways. But when they meet again in the winter in Barcelona, the love and desire they feel for each other is undeniable. Will they be able to find a way to get back together?\",\"popularity\":714.327,\"poster_path\":\"/gwpTgtwVAwmvivBN8rAQABpx9Am.jpg\",\"release_date\":\"2024-02-23\",\"title\":\"Through My Window 3: Looking at You\",\"video\":false,\"vote_average\":6.589,\"vote_count\":112},{\"adult\":false,\"backdrop_path\":\"/mOQV573Tr0WxI2VVOLKwtfaRGZH.jpg\",\"genre_ids\":[10749,35,12],\"id\":949429,\"original_language\":\"th\",\"original_title\":\"ผจญภัยล่าขุมทรัพย์หมื่นลี้\",\"overview\":\"Joy, a secretary at a large multinational company, has an online shopping problem, likes to read adventure novels and watch travel and adventure shows. She daydreams about living a life of adventure.\",\"popularity\":685.696,\"poster_path\":\"/w0Fao59IOjgfA9a1BFHG5nECGJg.jpg\",\"release_date\":\"2023-12-22\",\"title\":\"The Adventures\",\"video\":false,\"vote_average\":4.75,\"vote_count\":2},{\"adult\":false,\"backdrop_path\":\"/pWsD91G2R1Da3AKM3ymr3UoIfRb.jpg\",\"genre_ids\":[878,28,18],\"id\":933131,\"original_language\":\"ko\",\"original_title\":\"황야\",\"overview\":\"After a deadly earthquake turns Seoul into a lawless badland, a fearless huntsman springs into action to rescue a teenager abducted by a mad doctor.\",\"popularity\":660.167,\"poster_path\":\"/24CL0ySodCF8bcm38xtBeHzHp7W.jpg\",\"release_date\":\"2024-01-25\",\"title\":\"Badland Hunters\",\"video\":false,\"vote_average\":6.7,\"vote_count\":496},{\"adult\":false,\"backdrop_path\":\"/cazclcMhoYpHbuZb00bvby7xcXY.jpg\",\"genre_ids\":[53,28,18],\"id\":1183905,\"original_language\":\"de\",\"original_title\":\"Trunk - Locked In\",\"overview\":\"28-year-old medicine student Malina wakes up disoriented in a locked trunk and realizes, to her horror, that she is missing more than just her memory of what happened. With her phone as the only link to the outside world, the intelligent young woman wages a desperate fight for survival while the vehicle races relentlessly toward a terrible secret.\",\"popularity\":601.335,\"poster_path\":\"/znbGgoqcQB0pxoTSO5imfALWOk3.jpg\",\"release_date\":\"2023-11-24\",\"title\":\"Trunk - Locked In\",\"video\":false,\"vote_average\":5.817,\"vote_count\":41},{\"adult\":false,\"backdrop_path\":\"/ehumsuIBbgAe1hg343oszCLrAfI.jpg\",\"genre_ids\":[16,10751,14,12],\"id\":1022796,\"original_language\":\"en\",\"original_title\":\"Wish\",\"overview\":\"Asha, a sharp-witted idealist, makes a wish so powerful that it is answered by a cosmic force – a little ball of boundless energy called Star. Together, Asha and Star confront a most formidable foe - the ruler of Rosas, King Magnifico - to save her community and prove that when the will of one courageous human connects with the magic of the stars, wondrous things can happen.\",\"popularity\":577.069,\"poster_path\":\"/AcoVfiv1rrWOmAdpnAMnM56ki19.jpg\",\"release_date\":\"2023-11-13\",\"title\":\"Wish\",\"video\":false,\"vote_average\":6.619,\"vote_count\":804},{\"adult\":false,\"backdrop_path\":\"/bckxSN9ueOgm0gJpVJmPQrecWul.jpg\",\"genre_ids\":[28,12,14],\"id\":572802,\"original_language\":\"en\",\"original_title\":\"Aquaman and the Lost Kingdom\",\"overview\":\"Black Manta seeks revenge on Aquaman for his father's death. Wielding the Black Trident's power, he becomes a formidable foe. To defend Atlantis, Aquaman forges an alliance with his imprisoned brother. They must protect the kingdom.\",\"popularity\":564.639,\"poster_path\":\"/7lTnXOy0iNtBAdRP3TZvaKJ77F6.jpg\",\"release_date\":\"2023-12-20\",\"title\":\"Aquaman and the Lost Kingdom\",\"video\":false,\"vote_average\":6.872,\"vote_count\":1833},{\"adult\":false,\"backdrop_path\":\"/d2d0njdp19FbuOGTW1dbrVMJpTH.jpg\",\"genre_ids\":[35],\"id\":980137,\"original_language\":\"es\",\"original_title\":\"Papá o Mamá\",\"overview\":\"Florencia and Vicente are getting divorced. When both are promoted at their jobs, they will do anything in order to do not keep custody of their children.\",\"popularity\":560.082,\"poster_path\":\"/e0ezklncv9ApFVj50FSYJZo08oT.jpg\",\"release_date\":\"2023-11-30\",\"title\":\"Dad or Mom\",\"video\":false,\"vote_average\":7.357,\"vote_count\":35},{\"adult\":false,\"backdrop_path\":\"/dmiN2rakG9hZW04Xx7mHOoHTOyD.jpg\",\"genre_ids\":[35],\"id\":673593,\"original_language\":\"en\",\"original_title\":\"Mean Girls\",\"overview\":\"New student Cady Heron is welcomed into the top of the social food chain by the elite group of popular girls called ‘The Plastics,’ ruled by the conniving queen bee Regina George and her minions Gretchen and Karen. However, when Cady makes the major misstep of falling for Regina’s ex-boyfriend Aaron Samuels, she finds herself prey in Regina’s crosshairs. As Cady sets to take down the group’s apex predator with the help of her outcast friends Janis and Damian, she must learn how to stay true to herself while navigating the most cutthroat jungle of all: high school.\",\"popularity\":434.295,\"poster_path\":\"/fbbj3viSUDEGT1fFFMNpHP1iUjw.jpg\",\"release_date\":\"2024-01-10\",\"title\":\"Mean Girls\",\"video\":false,\"vote_average\":6.511,\"vote_count\":182}],\"total_pages\":46745,\"total_results\":934900}\n",
      "20\n",
      "934900\n",
      "12885\n",
      "602309325\n"
     ]
    },
    {
     "data": {
      "text/plain": [
       "149584.0"
      ]
     },
     "execution_count": 11,
     "metadata": {},
     "output_type": "execute_result"
    }
   ],
   "source": [
    "import requests\n",
    "\n",
    "url = f\"https://api.themoviedb.org/3/discover/movie?include_adult=true&include_video=false&language=en-US&page=1&sort_by=popularity.desc\"\n",
    "\n",
    "headers = {\n",
    "    \"accept\": \"application/json\",\n",
    "    \"Authorization\": f\"Bearer {secrets['tmdb-secret']}\"\n",
    "}\n",
    "\n",
    "response = requests.get(url, headers=headers)\n",
    "\n",
    "print(response.text)\n",
    "\n",
    "data = response.json()\n",
    "print(len(data['results']))\n",
    "print(data['total_results'])\n",
    "print(len(response.text))\n",
    "print(12885*data['total_pages'])\n",
    "46745*3.2\n",
    "# ~41min for all data"
   ]
  },
  {
   "cell_type": "markdown",
   "metadata": {},
   "source": [
    "### Get the Genres"
   ]
  },
  {
   "cell_type": "code",
   "execution_count": 5,
   "metadata": {},
   "outputs": [
    {
     "name": "stdout",
     "output_type": "stream",
     "text": [
      "{'genres': [{'id': 28, 'name': 'Action'}, {'id': 12, 'name': 'Adventure'}, {'id': 16, 'name': 'Animation'}, {'id': 35, 'name': 'Comedy'}, {'id': 80, 'name': 'Crime'}, {'id': 99, 'name': 'Documentary'}, {'id': 18, 'name': 'Drama'}, {'id': 10751, 'name': 'Family'}, {'id': 14, 'name': 'Fantasy'}, {'id': 36, 'name': 'History'}, {'id': 27, 'name': 'Horror'}, {'id': 10402, 'name': 'Music'}, {'id': 9648, 'name': 'Mystery'}, {'id': 10749, 'name': 'Romance'}, {'id': 878, 'name': 'Science Fiction'}, {'id': 10770, 'name': 'TV Movie'}, {'id': 53, 'name': 'Thriller'}, {'id': 10752, 'name': 'War'}, {'id': 37, 'name': 'Western'}]}\n",
      "{28: 'Action', 12: 'Adventure', 16: 'Animation', 35: 'Comedy', 80: 'Crime', 99: 'Documentary', 18: 'Drama', 10751: 'Family', 14: 'Fantasy', 36: 'History', 27: 'Horror', 10402: 'Music', 9648: 'Mystery', 10749: 'Romance', 878: 'Science Fiction', 10770: 'TV Movie', 53: 'Thriller', 10752: 'War', 37: 'Western'}\n"
     ]
    }
   ],
   "source": [
    "url = \"https://api.themoviedb.org/3/genre/movie/list?language=en\"\n",
    "\n",
    "headers = {\n",
    "    \"accept\": \"application/json\",\n",
    "    \"Authorization\": f\"Bearer {secrets['tmdb-secret']}\"\n",
    "}\n",
    "\n",
    "response = requests.get(url, headers=headers)\n",
    "data = response.json()\n",
    "print(data)\n",
    "\n",
    "genres_map = { genre['id']: genre['name'] for genre in data['genres'] }\n",
    "\n",
    "print(genres_map)\n",
    "keep_genres = [ 'Action', 'Comedy', 'Horror' ]"
   ]
  },
  {
   "cell_type": "markdown",
   "metadata": {},
   "source": [
    "### Download data"
   ]
  },
  {
   "cell_type": "code",
   "execution_count": 23,
   "metadata": {},
   "outputs": [
    {
     "name": "stderr",
     "output_type": "stream",
     "text": [
      "  0%|          | 41/46745 [00:10<3:13:53,  4.01it/s]\n"
     ]
    },
    {
     "name": "stdout",
     "output_type": "stream",
     "text": [
      "page: 501; failed: 400...\n"
     ]
    },
    {
     "ename": "KeyboardInterrupt",
     "evalue": "",
     "output_type": "error",
     "traceback": [
      "\u001b[0;31m---------------------------------------------------------------------------\u001b[0m",
      "\u001b[0;31mKeyboardInterrupt\u001b[0m                         Traceback (most recent call last)",
      "Cell \u001b[0;32mIn[23], line 19\u001b[0m\n\u001b[1;32m     17\u001b[0m     \u001b[38;5;28;01melse\u001b[39;00m:\n\u001b[1;32m     18\u001b[0m         \u001b[38;5;28mprint\u001b[39m(\u001b[38;5;124mf\u001b[39m\u001b[38;5;124m\"\u001b[39m\u001b[38;5;124mpage: \u001b[39m\u001b[38;5;132;01m{\u001b[39;00mp\u001b[38;5;132;01m}\u001b[39;00m\u001b[38;5;124m; failed: \u001b[39m\u001b[38;5;132;01m{\u001b[39;00mresponse\u001b[38;5;241m.\u001b[39mstatus_code\u001b[38;5;132;01m}\u001b[39;00m\u001b[38;5;124m...\u001b[39m\u001b[38;5;124m\"\u001b[39m)\n\u001b[0;32m---> 19\u001b[0m         \u001b[43mtime\u001b[49m\u001b[38;5;241;43m.\u001b[39;49m\u001b[43msleep\u001b[49m\u001b[43m(\u001b[49m\u001b[38;5;241;43m60\u001b[39;49m\u001b[43m)\u001b[49m\n\u001b[1;32m     21\u001b[0m jl\u001b[38;5;241m.\u001b[39mclose()\n",
      "\u001b[0;31mKeyboardInterrupt\u001b[0m: "
     ]
    }
   ],
   "source": [
    "jl = open('movies.jsonl', 'w')\n",
    "\n",
    "n_pages = 46745\n",
    "# also the checkpoint\n",
    "p = 1\n",
    "pbar = tqdm.tqdm(total=n_pages)\n",
    "while p <= n_pages+1:\n",
    "    url = f\"https://api.themoviedb.org/3/discover/movie?include_adult=true&include_video=false&language=en-US&page={p}&sort_by=popularity.desc\"\n",
    "    response = requests.get(url, headers=headers)\n",
    "\n",
    "    if response.status_code == 200:\n",
    "        data = response.json()\n",
    "        for movie in data['results']:\n",
    "            jl.write(f\"{json.dumps(movie)}\\n\")\n",
    "        p+=1\n",
    "        pbar.update(1)\n",
    "    else:\n",
    "        print(f\"page: {p}; failed: {response.status_code}...\")\n",
    "        time.sleep(60)\n",
    "\n",
    "jl.close()"
   ]
  },
  {
   "cell_type": "code",
   "execution_count": 24,
   "metadata": {},
   "outputs": [
    {
     "name": "stdout",
     "output_type": "stream",
     "text": [
      "{\"success\":false,\"status_code\":22,\"status_message\":\"Invalid page: Pages start at 1 and max at 500. They are expected to be an integer.\"}\n"
     ]
    }
   ],
   "source": [
    "url = f\"https://api.themoviedb.org/3/discover/movie?include_adult=true&include_video=false&language=en-US&page=501&sort_by=popularity.desc\"\n",
    "\n",
    "headers = {\n",
    "    \"accept\": \"application/json\",\n",
    "    \"Authorization\": f\"Bearer {secrets['tmdb-secret']}\"\n",
    "}\n",
    "\n",
    "response = requests.get(url, headers=headers)\n",
    "\n",
    "print(response.text)"
   ]
  },
  {
   "cell_type": "code",
   "execution_count": null,
   "metadata": {},
   "outputs": [],
   "source": [
    "import requests\n",
    "\n",
    "url = \"https://api.themoviedb.org/3/discover/movie?include_adult=true&include_video=false&language=en-US&page=1&sort_by=popularity.desc&with_genres=28&without_genres=10%2C1\"\n",
    "\n",
    "headers = {\n",
    "    \"accept\": \"application/json\",\n",
    "    \"Authorization\": f\"Bearer {secrets['tmdb-secret']}\"\n",
    "}\n",
    "\n",
    "response = requests.get(url, headers=headers)\n",
    "\n",
    "print(response.text)"
   ]
  },
  {
   "cell_type": "markdown",
   "metadata": {},
   "source": [
    "### Overkill"
   ]
  },
  {
   "cell_type": "code",
   "execution_count": null,
   "metadata": {},
   "outputs": [],
   "source": [
    "jl = open('movies-all.jsonl', 'w')\n",
    "\n",
    "n_pages = 500 # cant do more\n",
    "# also the checkpoint\n",
    "for i, g in enumerate(genres_map.keys()):\n",
    "    p = 1\n",
    "    pbar = tqdm.tqdm(total=n_pages)\n",
    "    pbar.reset(total=n_pages)\n",
    "    total_pages = 0\n",
    "    without_genres = '%2C'.join([ str(k) for k in list(genres_map.keys())[:i] ])\n",
    "    pbar.set_description(f\"genre: {g}; without: {without_genres}\")\n",
    "    while p <= n_pages:\n",
    "        url = f\"https://api.themoviedb.org/3/discover/movie?include_adult=true&include_video=false&language=en-US&page={p}&sort_by=popularity.desc&with_genres={g}&without_genres={without_genres}\"\n",
    "        response = requests.get(url, headers=headers)\n",
    "\n",
    "        if response.status_code == 200:\n",
    "            data = response.json()\n",
    "            total_pages = data['total_pages']\n",
    "            for movie in data['results']:\n",
    "                jl.write(f\"{json.dumps(movie)}\\n\")\n",
    "            p+=1\n",
    "            pbar.update(1)\n",
    "        else:\n",
    "            print(f\"page: {p}; failed: {response.status_code}; {response.text}...\")\n",
    "            time.sleep(60)\n",
    "    print(p, total_pages)\n",
    "jl.close()"
   ]
  },
  {
   "cell_type": "code",
   "execution_count": 95,
   "metadata": {},
   "outputs": [
    {
     "name": "stdout",
     "output_type": "stream",
     "text": [
      "524288\n",
      "['0000000000000000000', '0000000000000000001', '0000000000000000010', '0000000000000000011', '0000000000000000100']\n"
     ]
    }
   ],
   "source": [
    "# could try a yield with this\n",
    "# boring but fine\n",
    "# iter tools is hard, just use a mask\n",
    "with_combs_mask = []\n",
    "for i in range(2**len(genres_map)):\n",
    "    mask = format(i, f'#0{len(genres_map)+2}b')[2:]\n",
    "    with_combs_mask.append(mask)\n",
    "\n",
    "# dont store the actual list, it will be a big list of lists\n",
    "print(len(with_combs_mask))\n",
    "print(with_combs_mask[:5])"
   ]
  },
  {
   "cell_type": "code",
   "execution_count": 61,
   "metadata": {},
   "outputs": [
    {
     "name": "stdout",
     "output_type": "stream",
     "text": [
      "{\"page\":195,\"results\":[],\"total_pages\":194,\"total_results\":3870}\n"
     ]
    }
   ],
   "source": [
    "import requests\n",
    "\n",
    "p = '195'\n",
    "g = '878'\n",
    "without_genres = \"28%2C12%2C16%2C35%2C80%2C99%2C18%2C10751%2C14%2C36%2C27%2C10402%2C9648%2C10749\"\n",
    "\n",
    "url = f\"https://api.themoviedb.org/3/discover/movie?include_adult=true&include_video=false&language=en-US&page={p}&sort_by=popularity.desc&with_genres={g}&without_genres={without_genres}\"\n",
    "\n",
    "headers = {\n",
    "    \"accept\": \"application/json\",\n",
    "    \"Authorization\": f\"Bearer {secrets['tmdb-secret']}\"\n",
    "}\n",
    "\n",
    "response = requests.get(url, headers=headers)\n",
    "\n",
    "print(response.text)"
   ]
  },
  {
   "cell_type": "code",
   "execution_count": 115,
   "metadata": {},
   "outputs": [
    {
     "name": "stderr",
     "output_type": "stream",
     "text": [
      "pages: 501 / 854; movies: 20:   0%|          | 127/524287 [09:19<641:16:11,  4.40s/it]\n"
     ]
    },
    {
     "ename": "KeyError",
     "evalue": "'total_pages'",
     "output_type": "error",
     "traceback": [
      "\u001b[0;31m---------------------------------------------------------------------------\u001b[0m",
      "\u001b[0;31mKeyError\u001b[0m                                  Traceback (most recent call last)",
      "Cell \u001b[0;32mIn[115], line 28\u001b[0m\n\u001b[1;32m     26\u001b[0m response \u001b[38;5;241m=\u001b[39m requests\u001b[38;5;241m.\u001b[39mget(url, headers\u001b[38;5;241m=\u001b[39mheaders)\n\u001b[1;32m     27\u001b[0m data \u001b[38;5;241m=\u001b[39m response\u001b[38;5;241m.\u001b[39mjson()\n\u001b[0;32m---> 28\u001b[0m pages \u001b[38;5;241m=\u001b[39m \u001b[43mdata\u001b[49m\u001b[43m[\u001b[49m\u001b[38;5;124;43m'\u001b[39;49m\u001b[38;5;124;43mtotal_pages\u001b[39;49m\u001b[38;5;124;43m'\u001b[39;49m\u001b[43m]\u001b[49m\n\u001b[1;32m     30\u001b[0m \u001b[38;5;28;01mif\u001b[39;00m p \u001b[38;5;241m==\u001b[39m \u001b[38;5;241m1\u001b[39m:\n\u001b[1;32m     31\u001b[0m     all_pages\u001b[38;5;241m.\u001b[39mappend({\u001b[38;5;124m'\u001b[39m\u001b[38;5;124mi\u001b[39m\u001b[38;5;124m'\u001b[39m: i, \u001b[38;5;124m'\u001b[39m\u001b[38;5;124mpages\u001b[39m\u001b[38;5;124m'\u001b[39m: pages})\n",
      "\u001b[0;31mKeyError\u001b[0m: 'total_pages'"
     ]
    }
   ],
   "source": [
    "import tqdm\n",
    "import requests\n",
    "\n",
    "jl = open('movies-all-all.jsonl', 'w')\n",
    "\n",
    "# we dont care about 0\n",
    "pbar = tqdm.tqdm(with_combs_mask[1:])\n",
    "all_pages = []\n",
    "for i, mask in enumerate(pbar):\n",
    "    total_pages = 0\n",
    "\n",
    "    # this is right\n",
    "    # convert the mask to the search query\n",
    "    keys = list(genres_map.keys())\n",
    "    with_genres    = '%2C'.join([ str(keys[j]) for j, m in enumerate(mask) if m == '1' ])\n",
    "    without_genres = '%2C'.join([ str(keys[j]) for j, m in enumerate(mask) if m == '0' ])\n",
    "\n",
    "    # keep searching this query\n",
    "    p = 1\n",
    "    movies = []\n",
    "    while True:\n",
    "        pbar.set_description(f\"pages: {p} / {pages}; movies: {len(movies)}\")\n",
    "\n",
    "        # download the data\n",
    "        url = f\"https://api.themoviedb.org/3/discover/movie?include_adult=true&include_video=false&language=en-US&page={p}&sort_by=popularity.desc&with_genres={with_genres}&without_genres={without_genres}\"\n",
    "        response = requests.get(url, headers=headers)\n",
    "        data = response.json()\n",
    "        pages = data['total_pages']\n",
    "\n",
    "        if p == 1:\n",
    "            all_pages.append({'i': i, 'pages': pages})\n",
    "\n",
    "        movies = data['results']\n",
    "        # we have no more pages to search\n",
    "        if len(movies) == 0:\n",
    "            break\n",
    "\n",
    "        # get the movies and store them\n",
    "        for movie in movies:\n",
    "            jl.write(f\"{json.dumps(movie)}\\n\")\n",
    "        p+=1\n",
    "\n",
    "jl.close()"
   ]
  },
  {
   "cell_type": "markdown",
   "metadata": {},
   "source": [
    "### Look for Dupes"
   ]
  },
  {
   "cell_type": "code",
   "execution_count": 74,
   "metadata": {},
   "outputs": [
    {
     "name": "stderr",
     "output_type": "stream",
     "text": [
      "100%|██████████| 131282/131282 [00:00<00:00, 148534.12it/s]"
     ]
    },
    {
     "name": "stdout",
     "output_type": "stream",
     "text": [
      "131276\n",
      "{427641: 1, 811634: 1, 1924: 1, 81188: 1, 1027073: 1, 97020: 1}\n"
     ]
    },
    {
     "name": "stderr",
     "output_type": "stream",
     "text": [
      "\n"
     ]
    }
   ],
   "source": [
    "# i could ttry every combinattion\n",
    "# only show movies, so the empty results done matter\n",
    "# this is list of movies\n",
    "# maybe i couldve made this a dict, and look for key errors\n",
    "# not in array (append obj): 16m 20.0s\n",
    "# in array:                  should be the same (if no dupes)\n",
    "# in array:                  32.4s\n",
    "#        only 5 dupes not bad. when cmp obj, they had different scores, so different.\n",
    "#        thought this would work, but whatever\n",
    "# in dict:  0.8s\n",
    "#        prolly could have only one dict now\n",
    "uniques = {}\n",
    "dupes = {}\n",
    "with open('movies-all.jsonl') as f:\n",
    "    for line in tqdm.tqdm(f, total=131282):\n",
    "        movie = json.loads(line)\n",
    "        movie_id = movie['id']\n",
    "        # in is more efficient\n",
    "        if movie_id in uniques:\n",
    "            if movie_id in dupes:\n",
    "                dupes[movie_id] += 1\n",
    "            else:\n",
    "                dupes[movie_id] = 1\n",
    "        else:\n",
    "            # just a ph or something\n",
    "            uniques[movie_id] = 0\n",
    "\n",
    "print(len(uniques))\n",
    "print(dupes)"
   ]
  },
  {
   "cell_type": "code",
   "execution_count": null,
   "metadata": {},
   "outputs": [],
   "source": [
    "objs = []\n",
    "with open('movies-all.jsonl') as f:\n",
    "    for line in tqdm.tqdm(f, total=131282):\n",
    "        movie = json.loads(line)\n",
    "        movie_id = movie['id']\n",
    "        \n",
    "        if movie_id in dupes.keys():\n",
    "            objs.append(movie)\n",
    "\n",
    "# sort objs by id\n",
    "objs = sorted(objs, key=lambda x: x['id'])\n",
    "for obj in objs:\n",
    "    print(f\"{obj['id']}\\t{obj}\")"
   ]
  },
  {
   "cell_type": "markdown",
   "metadata": {},
   "source": [
    "### Harvest Data\n",
    "since i know how this works. i can skip some steps<br>\n",
    "also. this is **big** data, so im going to stick with streaming"
   ]
  },
  {
   "cell_type": "code",
   "execution_count": 6,
   "metadata": {},
   "outputs": [
    {
     "name": "stdout",
     "output_type": "stream",
     "text": [
      "131282\n",
      "{\n",
      "\t\"Action\": 10000,\n",
      "\t\"Adventure\": 12555,\n",
      "\t\"Animation\": 12924,\n",
      "\t\"Comedy\": 17518,\n",
      "\t\"Crime\": 13357,\n",
      "\t\"Documentary\": 11027,\n",
      "\t\"Drama\": 26259,\n",
      "\t\"Family\": 12550,\n",
      "\t\"Fantasy\": 11559,\n",
      "\t\"History\": 4659,\n",
      "\t\"Horror\": 15355,\n",
      "\t\"Music\": 13794,\n",
      "\t\"Mystery\": 9534,\n",
      "\t\"Romance\": 17845,\n",
      "\t\"Science Fiction\": 10246,\n",
      "\t\"TV Movie\": 8567,\n",
      "\t\"Thriller\": 23220,\n",
      "\t\"War\": 3140,\n",
      "\t\"Western\": 6120\n",
      "}\n",
      "{\n",
      "\t\"000\": 92039,\n",
      "\t\"001\": 7389,\n",
      "\t\"010\": 14717,\n",
      "\t\"011\": 1782,\n",
      "\t\"100\": 13634,\n",
      "\t\"101\": 702,\n",
      "\t\"110\": 892,\n",
      "\t\"111\": 127\n",
      "}\n"
     ]
    }
   ],
   "source": [
    "def conv(mask):\n",
    "    return format(mask, f'#0{len(keep_genres)+2}b')[2:]\n",
    "\n",
    "# dont do zero\n",
    "# should be l!, but this is fine\n",
    "total = 0\n",
    "sizes = { conv(i): 0 for i in range(0, 2**len(keep_genres)) }\n",
    "\n",
    "f_movies = open('movies-all.csv', 'w')\n",
    "csv_writer = csv.writer(f_movies)\n",
    "csv_writer.writerow(['adult', 'title', *genres_map, 'description'])\n",
    "\n",
    "total = 0\n",
    "counts = { genres_map[genre]: 0 for genre in genres_map.keys() }\n",
    "with open('movies-all.jsonl') as f:\n",
    "    for line in f:\n",
    "        obj = json.loads(line)\n",
    "        genres = []\n",
    "        kept_genres = []\n",
    "        for genre in genres_map:\n",
    "            if genre in obj['genre_ids']:\n",
    "                genres.append(True)\n",
    "                counts[genres_map[genre]] += 1\n",
    "                if genres_map[genre] in keep_genres:\n",
    "                    kept_genres.append(True)\n",
    "            else:\n",
    "                genres.append(False)\n",
    "                if genres_map[genre] in keep_genres:\n",
    "                    kept_genres.append(False)\n",
    "            \n",
    "        csv_writer.writerow([ obj['adult'], obj['original_title'], *genres, obj['overview'].encode('unicode_escape').decode('utf-8') ])\n",
    "        \n",
    "        mask = 0\n",
    "        for i, l in enumerate(kept_genres):\n",
    "            if l == True:\n",
    "                mask |= 2**i\n",
    "        # if mask != 0:\n",
    "        sizes[conv(mask)] += 1\n",
    "        total+=1\n",
    "\n",
    "print(total)\n",
    "print(json.dumps(counts, indent='\\t'))\n",
    "print(json.dumps(sizes, indent='\\t'))"
   ]
  },
  {
   "cell_type": "code",
   "execution_count": 7,
   "metadata": {},
   "outputs": [
    {
     "data": {
      "image/png": "[encoded data removed]",
      "text/plain": [
       "<Figure size 640x480 with 1 Axes>"
      ]
     },
     "metadata": {},
     "output_type": "display_data"
    }
   ],
   "source": [
    "venn = venn3(subsets = sizes, set_labels = keep_genres)\n",
    "venn_circles = venn3_circles(subsets = sizes, linestyle = '--')\n",
    "\n",
    "plt.title('Venn Diagram')\n",
    "plt.show()"
   ]
  },
  {
   "cell_type": "code",
   "execution_count": 118,
   "metadata": {},
   "outputs": [
    {
     "data": {
      "text/plain": [
       "0          True\n",
       "1          True\n",
       "2          True\n",
       "3          True\n",
       "4          True\n",
       "          ...  \n",
       "131257    False\n",
       "131258    False\n",
       "131259    False\n",
       "131260    False\n",
       "131261    False\n",
       "Name: 28, Length: 131262, dtype: bool"
      ]
     },
     "metadata": {},
     "output_type": "display_data"
    }
   ],
   "source": [
    "df_data = pd.read_csv('movies-all-data.csv')\n",
    "display(df_data['28'])"
   ]
  }
 ],
 "metadata": {
  "kernelspec": {
   "display_name": "its530_py38",
   "language": "python",
   "name": "python3"
  },
  "language_info": {
   "codemirror_mode": {
    "name": "ipython",
    "version": 3
   },
   "file_extension": ".py",
   "mimetype": "text/x-python",
   "name": "python",
   "nbconvert_exporter": "python",
   "pygments_lexer": "ipython3",
   "version": "3.8.18"
  }
 },
 "nbformat": 4,
 "nbformat_minor": 2
}
