{
 "cells": [
  {
   "cell_type": "code",
   "execution_count": 1,
   "metadata": {},
   "outputs": [],
   "source": [
    "#%pip install scikit-learn\n",
    "#%pip install matplotlib-venn"
   ]
  },
  {
   "cell_type": "code",
   "execution_count": 2,
   "metadata": {},
   "outputs": [
    {
     "name": "stderr",
     "output_type": "stream",
     "text": [
      "C:\\Users\\joeya\\anaconda3\\envs\\its520v2\\lib\\site-packages\\tqdm\\auto.py:21: TqdmWarning: IProgress not found. Please update jupyter and ipywidgets. See https://ipywidgets.readthedocs.io/en/stable/user_install.html\n",
      "  from .autonotebook import tqdm as notebook_tqdm\n"
     ]
    }
   ],
   "source": [
    "import pandas as pd\n",
    "\n",
    "import torch\n",
    "from torch.utils.data import Dataset\n",
    "from transformers import TrainingArguments, Trainer, pipeline\n",
    "from sklearn.metrics import accuracy_score, f1_score\n",
    "import json\n",
    "from datasets import load_dataset, Split\n",
    "\n",
    "import matplotlib.pyplot as plt\n",
    "from matplotlib_venn import venn3, venn3_circles, venn3_unweighted"
   ]
  },
  {
   "cell_type": "code",
   "execution_count": 3,
   "metadata": {},
   "outputs": [],
   "source": [
    "#rlhf = 'anime'\n",
    "# rlhf = 'steam' \n",
    "rlhf = 'movie'"
   ]
  },
  {
   "cell_type": "code",
   "execution_count": 4,
   "metadata": {},
   "outputs": [
    {
     "name": "stderr",
     "output_type": "stream",
     "text": [
      "Generating train split: 9998 examples [00:00, 161618.44 examples/s]\n"
     ]
    }
   ],
   "source": [
    "dataset = load_dataset(\"csv\", data_files=f\"{rlhf}.csv\", split=Split.ALL)"
   ]
  },
  {
   "cell_type": "code",
   "execution_count": 5,
   "metadata": {},
   "outputs": [
    {
     "data": {
      "text/plain": [
       "Dataset({\n",
       "    features: ['adult', '28', '12', '16', '35', '80', '99', '18', '10751', '14', '36', '27', '10402', '9648', '10749', '878', '10770', '53', '10752', '37', 'overview'],\n",
       "    num_rows: 9998\n",
       "})"
      ]
     },
     "execution_count": 5,
     "metadata": {},
     "output_type": "execute_result"
    }
   ],
   "source": [
    "dataset"
   ]
  },
  {
   "cell_type": "code",
   "execution_count": 7,
   "metadata": {},
   "outputs": [],
   "source": [
    "if rlhf == 'anime':\n",
    "    labels = [ 'Comedy', 'Romance', 'Action', 'Horror' ]\n",
    "elif rlhf == 'steam':\n",
    "    labels = [ 'RPG', 'Strategy', 'Casual' ]\n",
    "elif rlhf == 'movie':\n",
    "    labels = [ '28', '53', '35' ]\n",
    "#{'id': 28, 'name': 'Action'} {'id': 53, 'name': 'Thriller'} {'id': 35, 'name': 'Comedy'}\n",
    "id2label={i:l for i,l in enumerate(labels)}\n",
    "label2id={l:i for i,l in enumerate(labels)}"
   ]
  },
  {
   "cell_type": "code",
   "execution_count": 9,
   "metadata": {},
   "outputs": [
    {
     "name": "stdout",
     "output_type": "stream",
     "text": [
      "23\n"
     ]
    },
    {
     "data": {
      "text/html": [
       "<div>\n",
       "<style scoped>\n",
       "    .dataframe tbody tr th:only-of-type {\n",
       "        vertical-align: middle;\n",
       "    }\n",
       "\n",
       "    .dataframe tbody tr th {\n",
       "        vertical-align: top;\n",
       "    }\n",
       "\n",
       "    .dataframe thead th {\n",
       "        text-align: right;\n",
       "    }\n",
       "</style>\n",
       "<table border=\"1\" class=\"dataframe\">\n",
       "  <thead>\n",
       "    <tr style=\"text-align: right;\">\n",
       "      <th></th>\n",
       "      <th>category</th>\n",
       "      <th>text</th>\n",
       "      <th>label</th>\n",
       "    </tr>\n",
       "  </thead>\n",
       "  <tbody>\n",
       "    <tr>\n",
       "      <th>0</th>\n",
       "      <td>28</td>\n",
       "      <td>Characters from different backgrounds are thro...</td>\n",
       "      <td>0</td>\n",
       "    </tr>\n",
       "    <tr>\n",
       "      <th>1</th>\n",
       "      <td>53</td>\n",
       "      <td>Characters from different backgrounds are thro...</td>\n",
       "      <td>1</td>\n",
       "    </tr>\n",
       "    <tr>\n",
       "      <th>2</th>\n",
       "      <td>28</td>\n",
       "      <td>When a Delta Force special ops mission goes te...</td>\n",
       "      <td>0</td>\n",
       "    </tr>\n",
       "    <tr>\n",
       "      <th>3</th>\n",
       "      <td>53</td>\n",
       "      <td>When a Delta Force special ops mission goes te...</td>\n",
       "      <td>1</td>\n",
       "    </tr>\n",
       "    <tr>\n",
       "      <th>4</th>\n",
       "      <td>35</td>\n",
       "      <td>After an amazing first date, Bea and Ben\\u2019...</td>\n",
       "      <td>2</td>\n",
       "    </tr>\n",
       "    <tr>\n",
       "      <th>...</th>\n",
       "      <td>...</td>\n",
       "      <td>...</td>\n",
       "      <td>...</td>\n",
       "    </tr>\n",
       "    <tr>\n",
       "      <th>8602</th>\n",
       "      <td>35</td>\n",
       "      <td>Sir Robert Chiltern is a successful government...</td>\n",
       "      <td>2</td>\n",
       "    </tr>\n",
       "    <tr>\n",
       "      <th>8603</th>\n",
       "      <td>53</td>\n",
       "      <td>Philosophical twenty-something Ross Ulbricht c...</td>\n",
       "      <td>1</td>\n",
       "    </tr>\n",
       "    <tr>\n",
       "      <th>8604</th>\n",
       "      <td>28</td>\n",
       "      <td>A low-ranking thug is entrusted by his boss to...</td>\n",
       "      <td>0</td>\n",
       "    </tr>\n",
       "    <tr>\n",
       "      <th>8605</th>\n",
       "      <td>53</td>\n",
       "      <td>A low-ranking thug is entrusted by his boss to...</td>\n",
       "      <td>1</td>\n",
       "    </tr>\n",
       "    <tr>\n",
       "      <th>8606</th>\n",
       "      <td>53</td>\n",
       "      <td>A three-person crew on a mission to Mars faces...</td>\n",
       "      <td>1</td>\n",
       "    </tr>\n",
       "  </tbody>\n",
       "</table>\n",
       "<p>8607 rows × 3 columns</p>\n",
       "</div>"
      ],
      "text/plain": [
       "     category                                               text  label\n",
       "0          28  Characters from different backgrounds are thro...      0\n",
       "1          53  Characters from different backgrounds are thro...      1\n",
       "2          28  When a Delta Force special ops mission goes te...      0\n",
       "3          53  When a Delta Force special ops mission goes te...      1\n",
       "4          35  After an amazing first date, Bea and Ben\\u2019...      2\n",
       "...       ...                                                ...    ...\n",
       "8602       35  Sir Robert Chiltern is a successful government...      2\n",
       "8603       53  Philosophical twenty-something Ross Ulbricht c...      1\n",
       "8604       28  A low-ranking thug is entrusted by his boss to...      0\n",
       "8605       53  A low-ranking thug is entrusted by his boss to...      1\n",
       "8606       53  A three-person crew on a mission to Mars faces...      1\n",
       "\n",
       "[8607 rows x 3 columns]"
      ]
     },
     "metadata": {},
     "output_type": "display_data"
    },
    {
     "name": "stdout",
     "output_type": "stream",
     "text": [
      "category\n",
      "35    3098\n",
      "28    2899\n",
      "53    2610\n",
      "Name: count, dtype: int64\n"
     ]
    }
   ],
   "source": [
    "data = []\n",
    "empties = 0\n",
    "for d in dataset:\n",
    "    # if not d['isAdult']:\n",
    "    #     continue\n",
    "    # this caused a throw in tokenizer\n",
    "    if d['overview'] is None:\n",
    "        empties += 1\n",
    "        continue\n",
    "\n",
    "    # i think this makes it where ones not in labels dont get added\n",
    "    for label in labels:\n",
    "        if d[label]:\n",
    "            data.append({ 'category': label, 'text': d['overview'], 'label': label2id[label] })\n",
    "\n",
    "df_data = pd.DataFrame(data)\n",
    "print(empties)\n",
    "display(df_data)\n",
    "print(   df_data.category.value_counts()   )\n",
    "    "
   ]
  },
  {
   "cell_type": "code",
   "execution_count": 10,
   "metadata": {},
   "outputs": [
    {
     "name": "stdout",
     "output_type": "stream",
     "text": [
      "{'001': 1338, '010': 1480, '011': 993, '100': 2467, '101': 498, '110': 68, '111': 72} 9998\n"
     ]
    }
   ],
   "source": [
    "def conv(mask):\n",
    "    return format(mask, f'#0{len(labels)+2}b')[2:]\n",
    "\n",
    "# dont do zero\n",
    "# should be l!, but this is fine\n",
    "total = 0\n",
    "sizes = { conv(i): 0 for i in range(1, 2**len(labels)) }\n",
    "for d in dataset:\n",
    "    mask = 0\n",
    "    for i, l in enumerate(labels):\n",
    "        if d[l] == True:\n",
    "            mask |= 2**i\n",
    "    if mask != 0:\n",
    "        sizes[conv(mask)] += 1\n",
    "    total+=1\n",
    "print(sizes, total)"
   ]
  },
  {
   "cell_type": "code",
   "execution_count": 11,
   "metadata": {},
   "outputs": [
    {
     "data": {
      "image/png": "[encoded data removed]",
      "text/plain": [
       "<Figure size 640x480 with 1 Axes>"
      ]
     },
     "metadata": {},
     "output_type": "display_data"
    }
   ],
   "source": [
    "# sizes = { '100': 20, '010': 25, '001': 30, '110': 35, '101': 40, '011': 45, '111': 50 }\n",
    "# 001 010 011 100 101 110 111\n",
    "venn = venn3(subsets = sizes, set_labels = labels)\n",
    "venn_circles = venn3_circles(subsets = sizes, linestyle = '--')\n",
    "\n",
    "plt.title('Venn Diagram')\n",
    "plt.show()"
   ]
  },
  {
   "cell_type": "code",
   "execution_count": 12,
   "metadata": {},
   "outputs": [
    {
     "name": "stderr",
     "output_type": "stream",
     "text": [
      "C:\\Users\\joeya\\anaconda3\\envs\\its520v2\\lib\\site-packages\\huggingface_hub\\file_download.py:149: UserWarning: `huggingface_hub` cache-system uses symlinks by default to efficiently store duplicated files but your machine does not support them in C:\\Users\\joeya\\.cache\\huggingface\\hub\\models--bert-base-uncased. Caching files will still work but in a degraded version that might require more space on your disk. This warning can be disabled by setting the `HF_HUB_DISABLE_SYMLINKS_WARNING` environment variable. For more details, see https://huggingface.co/docs/huggingface_hub/how-to-cache#limitations.\n",
      "To support symlinks on Windows, you either need to activate Developer Mode or to run Python as an administrator. In order to see activate developer mode, see this article: https://docs.microsoft.com/en-us/windows/apps/get-started/enable-your-device-for-development\n",
      "  warnings.warn(message)\n",
      "Some weights of BertForSequenceClassification were not initialized from the model checkpoint at bert-base-uncased and are newly initialized: ['classifier.bias', 'classifier.weight']\n",
      "You should probably TRAIN this model on a down-stream task to be able to use it for predictions and inference.\n"
     ]
    }
   ],
   "source": [
    "from transformers import BertTokenizerFast\n",
    "from transformers import BertForSequenceClassification\n",
    "tokenizer = BertTokenizerFast.from_pretrained(\"bert-base-uncased\")\n",
    "model = BertForSequenceClassification.from_pretrained(\"bert-base-uncased\", num_labels=len(labels), id2label=id2label, label2id=label2id)"
   ]
  },
  {
   "cell_type": "code",
   "execution_count": 13,
   "metadata": {},
   "outputs": [
    {
     "name": "stdout",
     "output_type": "stream",
     "text": [
      "4303 2152 2152\n"
     ]
    }
   ],
   "source": [
    "SIZE = df_data.shape[0]\n",
    "\n",
    "train_texts= list(df_data.text[:SIZE//2])\n",
    "val_texts=   list(df_data.text[SIZE//2:(3*SIZE)//4 ])\n",
    "test_texts=  list(df_data.text[(3*SIZE)//4:])\n",
    "\n",
    "train_labels= list(df_data.label[:SIZE//2])\n",
    "val_labels=   list(df_data.label[SIZE//2:(3*SIZE)//4])\n",
    "test_labels=  list(df_data.label[(3*SIZE)//4:])\n",
    "\n",
    "print(   len(train_texts), len(val_texts), len(test_texts)   )"
   ]
  },
  {
   "cell_type": "code",
   "execution_count": 14,
   "metadata": {},
   "outputs": [],
   "source": [
    "train_encodings = tokenizer(train_texts, truncation=True, padding=True)\n",
    "val_encodings   = tokenizer(val_texts,   truncation=True, padding=True)\n",
    "test_encodings  = tokenizer(test_texts,  truncation=True, padding=True)"
   ]
  },
  {
   "cell_type": "code",
   "execution_count": 15,
   "metadata": {},
   "outputs": [],
   "source": [
    "class MyDataset(Dataset):\n",
    "    def __init__(self, encodings, labels):\n",
    "        self.encodings = encodings\n",
    "        self.labels = labels\n",
    "\n",
    "    def __getitem__(self, idx):\n",
    "        item = {key: torch.tensor(val[idx]) for key, val in self.encodings.items()}\n",
    "        item['labels'] = torch.tensor(self.labels[idx])\n",
    "        return item\n",
    "\n",
    "    def __len__(self):\n",
    "        return len(self.labels)"
   ]
  },
  {
   "cell_type": "code",
   "execution_count": 16,
   "metadata": {},
   "outputs": [],
   "source": [
    "train_dataset = MyDataset(train_encodings, train_labels)\n",
    "val_dataset   = MyDataset(val_encodings,   val_labels)\n",
    "test_dataset  = MyDataset(test_encodings,  test_labels)"
   ]
  },
  {
   "cell_type": "code",
   "execution_count": 17,
   "metadata": {},
   "outputs": [],
   "source": [
    "def compute_metrics(pred): \n",
    "    labels = pred.label_ids \n",
    "    preds  = pred.predictions.argmax(-1) \n",
    "    f1  = f1_score(labels, preds, average='macro') \n",
    "    acc = accuracy_score(labels, preds) \n",
    "    return {\n",
    "        'Accuracy': acc,\n",
    "        'F1': f1\n",
    "    }"
   ]
  },
  {
   "cell_type": "code",
   "execution_count": 18,
   "metadata": {},
   "outputs": [],
   "source": [
    "training_args = TrainingArguments(\n",
    "    # The output directory where the model predictions and checkpoints will be written\n",
    "    output_dir=f'{rlhf}-model', \n",
    "    do_train=True,\n",
    "    do_eval=True,\n",
    "    #  The number of epochs, defaults to 3.0 \n",
    "    num_train_epochs=3,\n",
    "    per_device_train_batch_size = 8,\n",
    "    per_device_eval_batch_size  = 8,\n",
    "    # Number of steps used for a linear warmup\n",
    "    warmup_steps=100,\n",
    "    weight_decay=0.01,\n",
    "    logging_strategy='steps',\n",
    "   # TensorBoard log directory\n",
    "    logging_dir='./multi-class-logs',\n",
    "    logging_steps=50,\n",
    "    evaluation_strategy=\"steps\",\n",
    "    eval_steps=50,\n",
    "    save_strategy=\"epoch\",\n",
    "    ## fp16=True\n",
    "    #load_best_model_at_end=True\n",
    ")"
   ]
  },
  {
   "cell_type": "code",
   "execution_count": 19,
   "metadata": {},
   "outputs": [],
   "source": [
    "trainer = Trainer(\n",
    "    # the pre-trained model that will be fine-tuned\n",
    "    model=model,\n",
    "     # training arguments that we defined above\n",
    "    args=training_args,\n",
    "    train_dataset=train_dataset,\n",
    "    eval_dataset=val_dataset,\n",
    "    compute_metrics= compute_metrics\n",
    ")"
   ]
  },
  {
   "cell_type": "code",
   "execution_count": 20,
   "metadata": {},
   "outputs": [
    {
     "data": {
      "text/html": [
       "\n",
       "    <div>\n",
       "      \n",
       "      <progress value='1614' max='1614' style='width:300px; height:20px; vertical-align: middle;'></progress>\n",
       "      [1614/1614 07:21, Epoch 3/3]\n",
       "    </div>\n",
       "    <table border=\"1\" class=\"dataframe\">\n",
       "  <thead>\n",
       " <tr style=\"text-align: left;\">\n",
       "      <th>Step</th>\n",
       "      <th>Training Loss</th>\n",
       "      <th>Validation Loss</th>\n",
       "      <th>Accuracy</th>\n",
       "      <th>F1</th>\n",
       "    </tr>\n",
       "  </thead>\n",
       "  <tbody>\n",
       "    <tr>\n",
       "      <td>50</td>\n",
       "      <td>1.120100</td>\n",
       "      <td>1.016652</td>\n",
       "      <td>0.498606</td>\n",
       "      <td>0.389874</td>\n",
       "    </tr>\n",
       "    <tr>\n",
       "      <td>100</td>\n",
       "      <td>0.959600</td>\n",
       "      <td>0.912191</td>\n",
       "      <td>0.565056</td>\n",
       "      <td>0.540532</td>\n",
       "    </tr>\n",
       "    <tr>\n",
       "      <td>150</td>\n",
       "      <td>0.954800</td>\n",
       "      <td>0.895040</td>\n",
       "      <td>0.618030</td>\n",
       "      <td>0.597530</td>\n",
       "    </tr>\n",
       "    <tr>\n",
       "      <td>200</td>\n",
       "      <td>0.890000</td>\n",
       "      <td>0.831087</td>\n",
       "      <td>0.613383</td>\n",
       "      <td>0.588680</td>\n",
       "    </tr>\n",
       "    <tr>\n",
       "      <td>250</td>\n",
       "      <td>0.895700</td>\n",
       "      <td>0.884649</td>\n",
       "      <td>0.598048</td>\n",
       "      <td>0.593051</td>\n",
       "    </tr>\n",
       "    <tr>\n",
       "      <td>300</td>\n",
       "      <td>0.882400</td>\n",
       "      <td>0.861295</td>\n",
       "      <td>0.610130</td>\n",
       "      <td>0.607711</td>\n",
       "    </tr>\n",
       "    <tr>\n",
       "      <td>350</td>\n",
       "      <td>0.876100</td>\n",
       "      <td>0.844937</td>\n",
       "      <td>0.607807</td>\n",
       "      <td>0.609618</td>\n",
       "    </tr>\n",
       "    <tr>\n",
       "      <td>400</td>\n",
       "      <td>0.875800</td>\n",
       "      <td>0.758583</td>\n",
       "      <td>0.663104</td>\n",
       "      <td>0.654511</td>\n",
       "    </tr>\n",
       "    <tr>\n",
       "      <td>450</td>\n",
       "      <td>0.907400</td>\n",
       "      <td>0.781631</td>\n",
       "      <td>0.644981</td>\n",
       "      <td>0.646917</td>\n",
       "    </tr>\n",
       "    <tr>\n",
       "      <td>500</td>\n",
       "      <td>0.812900</td>\n",
       "      <td>0.754188</td>\n",
       "      <td>0.658922</td>\n",
       "      <td>0.657657</td>\n",
       "    </tr>\n",
       "    <tr>\n",
       "      <td>550</td>\n",
       "      <td>0.757200</td>\n",
       "      <td>0.765699</td>\n",
       "      <td>0.642658</td>\n",
       "      <td>0.642315</td>\n",
       "    </tr>\n",
       "    <tr>\n",
       "      <td>600</td>\n",
       "      <td>0.692000</td>\n",
       "      <td>0.939755</td>\n",
       "      <td>0.603160</td>\n",
       "      <td>0.601598</td>\n",
       "    </tr>\n",
       "    <tr>\n",
       "      <td>650</td>\n",
       "      <td>0.725000</td>\n",
       "      <td>0.774249</td>\n",
       "      <td>0.649628</td>\n",
       "      <td>0.650233</td>\n",
       "    </tr>\n",
       "    <tr>\n",
       "      <td>700</td>\n",
       "      <td>0.695800</td>\n",
       "      <td>0.766196</td>\n",
       "      <td>0.666822</td>\n",
       "      <td>0.658560</td>\n",
       "    </tr>\n",
       "    <tr>\n",
       "      <td>750</td>\n",
       "      <td>0.704300</td>\n",
       "      <td>0.743485</td>\n",
       "      <td>0.664033</td>\n",
       "      <td>0.660022</td>\n",
       "    </tr>\n",
       "    <tr>\n",
       "      <td>800</td>\n",
       "      <td>0.740200</td>\n",
       "      <td>0.769023</td>\n",
       "      <td>0.652881</td>\n",
       "      <td>0.650460</td>\n",
       "    </tr>\n",
       "    <tr>\n",
       "      <td>850</td>\n",
       "      <td>0.749200</td>\n",
       "      <td>0.790203</td>\n",
       "      <td>0.649628</td>\n",
       "      <td>0.651619</td>\n",
       "    </tr>\n",
       "    <tr>\n",
       "      <td>900</td>\n",
       "      <td>0.693000</td>\n",
       "      <td>0.790629</td>\n",
       "      <td>0.662639</td>\n",
       "      <td>0.661632</td>\n",
       "    </tr>\n",
       "    <tr>\n",
       "      <td>950</td>\n",
       "      <td>0.711200</td>\n",
       "      <td>0.787409</td>\n",
       "      <td>0.659851</td>\n",
       "      <td>0.652212</td>\n",
       "    </tr>\n",
       "    <tr>\n",
       "      <td>1000</td>\n",
       "      <td>0.710100</td>\n",
       "      <td>0.743122</td>\n",
       "      <td>0.670539</td>\n",
       "      <td>0.668856</td>\n",
       "    </tr>\n",
       "    <tr>\n",
       "      <td>1050</td>\n",
       "      <td>0.659300</td>\n",
       "      <td>0.746558</td>\n",
       "      <td>0.662175</td>\n",
       "      <td>0.660620</td>\n",
       "    </tr>\n",
       "    <tr>\n",
       "      <td>1100</td>\n",
       "      <td>0.591100</td>\n",
       "      <td>0.794754</td>\n",
       "      <td>0.635223</td>\n",
       "      <td>0.622239</td>\n",
       "    </tr>\n",
       "    <tr>\n",
       "      <td>1150</td>\n",
       "      <td>0.565500</td>\n",
       "      <td>0.847821</td>\n",
       "      <td>0.666822</td>\n",
       "      <td>0.660341</td>\n",
       "    </tr>\n",
       "    <tr>\n",
       "      <td>1200</td>\n",
       "      <td>0.500700</td>\n",
       "      <td>0.790843</td>\n",
       "      <td>0.671933</td>\n",
       "      <td>0.661760</td>\n",
       "    </tr>\n",
       "    <tr>\n",
       "      <td>1250</td>\n",
       "      <td>0.540000</td>\n",
       "      <td>0.819586</td>\n",
       "      <td>0.666357</td>\n",
       "      <td>0.665612</td>\n",
       "    </tr>\n",
       "    <tr>\n",
       "      <td>1300</td>\n",
       "      <td>0.599000</td>\n",
       "      <td>0.774307</td>\n",
       "      <td>0.675186</td>\n",
       "      <td>0.674973</td>\n",
       "    </tr>\n",
       "    <tr>\n",
       "      <td>1350</td>\n",
       "      <td>0.540900</td>\n",
       "      <td>0.795672</td>\n",
       "      <td>0.661245</td>\n",
       "      <td>0.659385</td>\n",
       "    </tr>\n",
       "    <tr>\n",
       "      <td>1400</td>\n",
       "      <td>0.525500</td>\n",
       "      <td>0.768676</td>\n",
       "      <td>0.676580</td>\n",
       "      <td>0.674196</td>\n",
       "    </tr>\n",
       "    <tr>\n",
       "      <td>1450</td>\n",
       "      <td>0.596700</td>\n",
       "      <td>0.781205</td>\n",
       "      <td>0.670539</td>\n",
       "      <td>0.667763</td>\n",
       "    </tr>\n",
       "    <tr>\n",
       "      <td>1500</td>\n",
       "      <td>0.556000</td>\n",
       "      <td>0.754205</td>\n",
       "      <td>0.677509</td>\n",
       "      <td>0.673484</td>\n",
       "    </tr>\n",
       "    <tr>\n",
       "      <td>1550</td>\n",
       "      <td>0.556200</td>\n",
       "      <td>0.763443</td>\n",
       "      <td>0.682156</td>\n",
       "      <td>0.680346</td>\n",
       "    </tr>\n",
       "    <tr>\n",
       "      <td>1600</td>\n",
       "      <td>0.578300</td>\n",
       "      <td>0.754890</td>\n",
       "      <td>0.678903</td>\n",
       "      <td>0.676304</td>\n",
       "    </tr>\n",
       "  </tbody>\n",
       "</table><p>"
      ],
      "text/plain": [
       "<IPython.core.display.HTML object>"
      ]
     },
     "metadata": {},
     "output_type": "display_data"
    },
    {
     "name": "stdout",
     "output_type": "stream",
     "text": [
      "TrainOutput(global_step=1614, training_loss=0.72148990394753, metrics={'train_runtime': 442.759, 'train_samples_per_second': 29.156, 'train_steps_per_second': 3.645, 'total_flos': 1844210250834588.0, 'train_loss': 0.72148990394753, 'epoch': 3.0})\n"
     ]
    }
   ],
   "source": [
    "res_train = trainer.train()\n",
    "print(res_train)"
   ]
  },
  {
   "cell_type": "code",
   "execution_count": 21,
   "metadata": {},
   "outputs": [
    {
     "data": {
      "text/plain": [
       "('movie-model/final-tokenizer\\\\tokenizer_config.json',\n",
       " 'movie-model/final-tokenizer\\\\special_tokens_map.json',\n",
       " 'movie-model/final-tokenizer\\\\vocab.txt',\n",
       " 'movie-model/final-tokenizer\\\\added_tokens.json',\n",
       " 'movie-model/final-tokenizer\\\\tokenizer.json')"
      ]
     },
     "execution_count": 21,
     "metadata": {},
     "output_type": "execute_result"
    }
   ],
   "source": [
    "trainer.save_model(f'{rlhf}-model/final-trainer')\n",
    "tokenizer.save_pretrained(f'{rlhf}-model/final-tokenizer')"
   ]
  },
  {
   "cell_type": "code",
   "execution_count": 22,
   "metadata": {},
   "outputs": [
    {
     "data": {
      "text/html": [
       "\n",
       "    <div>\n",
       "      \n",
       "      <progress value='1076' max='538' style='width:300px; height:20px; vertical-align: middle;'></progress>\n",
       "      [538/538 00:37]\n",
       "    </div>\n",
       "    "
      ],
      "text/plain": [
       "<IPython.core.display.HTML object>"
      ]
     },
     "metadata": {},
     "output_type": "display_data"
    },
    {
     "data": {
      "text/html": [
       "<div>\n",
       "<style scoped>\n",
       "    .dataframe tbody tr th:only-of-type {\n",
       "        vertical-align: middle;\n",
       "    }\n",
       "\n",
       "    .dataframe tbody tr th {\n",
       "        vertical-align: top;\n",
       "    }\n",
       "\n",
       "    .dataframe thead th {\n",
       "        text-align: right;\n",
       "    }\n",
       "</style>\n",
       "<table border=\"1\" class=\"dataframe\">\n",
       "  <thead>\n",
       "    <tr style=\"text-align: right;\">\n",
       "      <th></th>\n",
       "      <th>eval_loss</th>\n",
       "      <th>eval_Accuracy</th>\n",
       "      <th>eval_F1</th>\n",
       "      <th>eval_runtime</th>\n",
       "      <th>eval_samples_per_second</th>\n",
       "    </tr>\n",
       "  </thead>\n",
       "  <tbody>\n",
       "    <tr>\n",
       "      <th>train</th>\n",
       "      <td>0.445553</td>\n",
       "      <td>0.765512</td>\n",
       "      <td>0.768127</td>\n",
       "      <td>20.2032</td>\n",
       "      <td>212.986</td>\n",
       "    </tr>\n",
       "    <tr>\n",
       "      <th>val</th>\n",
       "      <td>0.755372</td>\n",
       "      <td>0.679368</td>\n",
       "      <td>0.676791</td>\n",
       "      <td>7.6373</td>\n",
       "      <td>281.774</td>\n",
       "    </tr>\n",
       "    <tr>\n",
       "      <th>test</th>\n",
       "      <td>0.775570</td>\n",
       "      <td>0.681227</td>\n",
       "      <td>0.672105</td>\n",
       "      <td>9.7206</td>\n",
       "      <td>221.386</td>\n",
       "    </tr>\n",
       "  </tbody>\n",
       "</table>\n",
       "</div>"
      ],
      "text/plain": [
       "       eval_loss  eval_Accuracy   eval_F1  eval_runtime  \\\n",
       "train   0.445553       0.765512  0.768127       20.2032   \n",
       "val     0.755372       0.679368  0.676791        7.6373   \n",
       "test    0.775570       0.681227  0.672105        9.7206   \n",
       "\n",
       "       eval_samples_per_second  \n",
       "train                  212.986  \n",
       "val                    281.774  \n",
       "test                   221.386  "
      ]
     },
     "execution_count": 22,
     "metadata": {},
     "output_type": "execute_result"
    }
   ],
   "source": [
    "q = [trainer.evaluate(eval_dataset=data) for data in [train_dataset, val_dataset, test_dataset]]\n",
    "\n",
    "pd.DataFrame(q, index=[\"train\",\"val\",\"test\"]).iloc[:,:5]"
   ]
  },
  {
   "cell_type": "code",
   "execution_count": 23,
   "metadata": {},
   "outputs": [],
   "source": [
    "def predict(text):\n",
    "    inputs = tokenizer(text, padding=True, truncation=True, max_length=512, return_tensors=\"pt\").to(\"cuda\")\n",
    "    outputs = model(**inputs)\n",
    "    probs = outputs[0].softmax(1)\n",
    "    return probs, probs.argmax(),model.config.id2label[probs.argmax().item()]"
   ]
  },
  {
   "cell_type": "code",
   "execution_count": 24,
   "metadata": {},
   "outputs": [
    {
     "name": "stdout",
     "output_type": "stream",
     "text": [
      "(tensor([[0.2187, 0.4693, 0.3120]], device='cuda:0', grad_fn=<SoftmaxBackward0>), tensor(1, device='cuda:0'), '53')\n"
     ]
    }
   ],
   "source": [
    "text = \"\"\n",
    "print(predict(text))"
   ]
  },
  {
   "cell_type": "markdown",
   "metadata": {},
   "source": [
    "## Predict"
   ]
  },
  {
   "cell_type": "code",
   "execution_count": 25,
   "metadata": {},
   "outputs": [
    {
     "name": "stderr",
     "output_type": "stream",
     "text": [
      "C:\\Users\\joeya\\anaconda3\\envs\\its520v2\\lib\\site-packages\\transformers\\pipelines\\text_classification.py:104: UserWarning: `return_all_scores` is now deprecated,  if want a similar functionality use `top_k=None` instead of `return_all_scores=True` or `top_k=1` instead of `return_all_scores=False`.\n",
      "  warnings.warn(\n"
     ]
    }
   ],
   "source": [
    "model = BertForSequenceClassification.from_pretrained(f\"{rlhf}-model/final-trainer\")\n",
    "tokenizer= BertTokenizerFast.from_pretrained(f\"{rlhf}-model/final-tokenizer\")\n",
    "\n",
    "sent_kwargs = {\n",
    "         \"return_all_scores\": True, \n",
    "         \"function_to_apply\": \"none\", \n",
    "         \"batch_size\": 16\n",
    "}\n",
    "nlp = pipeline(\"sentiment-analysis\", model=model, tokenizer=tokenizer, **sent_kwargs)"
   ]
  },
  {
   "cell_type": "code",
   "execution_count": 26,
   "metadata": {},
   "outputs": [
    {
     "name": "stdout",
     "output_type": "stream",
     "text": [
      "\n",
      "[\n",
      "\t[\n",
      "\t\t{\n",
      "\t\t\t\"label\": \"28\",\n",
      "\t\t\t\"score\": -0.2838089168071747\n",
      "\t\t},\n",
      "\t\t{\n",
      "\t\t\t\"label\": \"53\",\n",
      "\t\t\t\"score\": 0.4798276424407959\n",
      "\t\t},\n",
      "\t\t{\n",
      "\t\t\t\"label\": \"35\",\n",
      "\t\t\t\"score\": 0.0714331567287445\n",
      "\t\t}\n",
      "\t]\n",
      "]\n"
     ]
    }
   ],
   "source": [
    "if rlhf == 'anime':\n",
    "    text = \"For hearing-impaired university student Yuki Itose, silence has been a natural part \\\n",
    "of life since birth. Her world is small and isolated; she commutes to campus, interacts with \\\n",
    "her best friend Rin Fujishiro, and communicates through writing and text messages—a lifestyle \\\n",
    "that offers little to no change. One day, during her commute, Yuki meets fellow student \\\n",
    "Itsuomi Nagi, a multilingual travel enthusiast and friend of Rin. When Itsuomi learns of \\\n",
    "Yuki's condition, he takes it in stride, moving Yuki's heart. From this one simple \\\n",
    "gesture, Yuki and Itsuomi's lives start changing day by day as they let each other into their own worlds.\"\n",
    "elif rlhf == 'steam':\n",
    "    text = \"You work as a scientist in the isolated research lab in the mountains of Switzerland. \\\n",
    "Your task is to gather signals from space, analyze them, process them and sell them to get points. \\\n",
    "You can get regular signals and objects like dwarf planets and stars, or you can get something \\\n",
    "\\\"unusual\\\" or \\\"strange\\\" The game has 40+ days and events, 150+ possible signals, \\\n",
    "some easter eggs and secrets.\"\n",
    "elif rlhf == 'movie':\n",
    "    pass\n",
    "# voices of the void\n",
    "# https://mrdrnose.itch.io/votv\n",
    "\n",
    "print(text)\n",
    "r1 = nlp(text)\n",
    "print(json.dumps(r1, indent='\\t'))"
   ]
  }
 ],
 "metadata": {
  "kernelspec": {
   "display_name": "Python 3 (ipykernel)",
   "language": "python",
   "name": "python3"
  },
  "language_info": {
   "codemirror_mode": {
    "name": "ipython",
    "version": 3
   },
   "file_extension": ".py",
   "mimetype": "text/x-python",
   "name": "python",
   "nbconvert_exporter": "python",
   "pygments_lexer": "ipython3",
   "version": "3.10.13"
  }
 },
 "nbformat": 4,
 "nbformat_minor": 4
}
