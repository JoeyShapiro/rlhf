{
 "cells": [
  {
   "cell_type": "markdown",
   "metadata": {},
   "source": [
    "# GPT"
   ]
  },
  {
   "cell_type": "code",
   "execution_count": 1,
   "metadata": {},
   "outputs": [],
   "source": [
    "#%pip install trl\n",
    "#%pip install datasets\n",
    "#%pip install -U transformers==4.38.1"
   ]
  },
  {
   "cell_type": "code",
   "execution_count": 2,
   "metadata": {},
   "outputs": [
    {
     "name": "stderr",
     "output_type": "stream",
     "text": [
      "C:\\Users\\joeya\\anaconda3\\envs\\its520v2\\lib\\site-packages\\tqdm\\auto.py:21: TqdmWarning: IProgress not found. Please update jupyter and ipywidgets. See https://ipywidgets.readthedocs.io/en/stable/user_install.html\n",
      "  from .autonotebook import tqdm as notebook_tqdm\n"
     ]
    }
   ],
   "source": [
    "from transformers import pipeline, AutoTokenizer\n",
    "from datasets import load_dataset\n",
    "\n",
    "from trl import PPOTrainer, PPOConfig, AutoModelForCausalLMWithValueHead\n",
    "from trl.core import LengthSampler\n",
    "\n",
    "import pandas as pd\n",
    "\n",
    "import torch\n",
    "from torch.utils.data import Dataset\n",
    "from transformers import TrainingArguments, Trainer, pipeline\n",
    "from sklearn.metrics import accuracy_score, f1_score\n",
    "import json\n",
    "from datasets import load_dataset, Split\n",
    "\n",
    "from transformers import BertTokenizerFast, BertForSequenceClassification\n",
    "import tqdm"
   ]
  },
  {
   "cell_type": "markdown",
   "metadata": {},
   "source": [
    "## Load Data"
   ]
  },
  {
   "cell_type": "code",
   "execution_count": 3,
   "metadata": {},
   "outputs": [],
   "source": [
    "# rlhf = 'anime'\n",
    "rlhf = 'steam' \n",
    "# rlhf = 'movie'"
   ]
  },
  {
   "cell_type": "code",
   "execution_count": 4,
   "metadata": {},
   "outputs": [],
   "source": [
    "dataset = load_dataset(\"csv\", data_files=f\"{rlhf}.csv\", split=Split.ALL)"
   ]
  },
  {
   "cell_type": "code",
   "execution_count": 5,
   "metadata": {},
   "outputs": [
    {
     "data": {
      "text/plain": [
       "Dataset({\n",
       "    features: ['RPG', 'Strategy', 'Casual', 'age', 'description'],\n",
       "    num_rows: 4169\n",
       "})"
      ]
     },
     "execution_count": 5,
     "metadata": {},
     "output_type": "execute_result"
    }
   ],
   "source": [
    "dataset"
   ]
  },
  {
   "cell_type": "code",
   "execution_count": 6,
   "metadata": {},
   "outputs": [
    {
     "data": {
      "text/html": [
       "<div>\n",
       "<style scoped>\n",
       "    .dataframe tbody tr th:only-of-type {\n",
       "        vertical-align: middle;\n",
       "    }\n",
       "\n",
       "    .dataframe tbody tr th {\n",
       "        vertical-align: top;\n",
       "    }\n",
       "\n",
       "    .dataframe thead th {\n",
       "        text-align: right;\n",
       "    }\n",
       "</style>\n",
       "<table border=\"1\" class=\"dataframe\">\n",
       "  <thead>\n",
       "    <tr style=\"text-align: right;\">\n",
       "      <th></th>\n",
       "      <th>RPG</th>\n",
       "      <th>Strategy</th>\n",
       "      <th>Casual</th>\n",
       "      <th>age</th>\n",
       "      <th>description</th>\n",
       "    </tr>\n",
       "  </thead>\n",
       "  <tbody>\n",
       "    <tr>\n",
       "      <th>0</th>\n",
       "      <td>False</td>\n",
       "      <td>False</td>\n",
       "      <td>False</td>\n",
       "      <td>0</td>\n",
       "      <td>&lt;strong&gt;LAND, LOOT, SURVIVE!&lt;/strong&gt;&lt;br&gt;Play ...</td>\n",
       "    </tr>\n",
       "    <tr>\n",
       "      <th>1</th>\n",
       "      <td>False</td>\n",
       "      <td>False</td>\n",
       "      <td>False</td>\n",
       "      <td>0</td>\n",
       "      <td>Counter-Strike: Global Offensive (CS: GO) expa...</td>\n",
       "    </tr>\n",
       "    <tr>\n",
       "      <th>2</th>\n",
       "      <td>True</td>\n",
       "      <td>False</td>\n",
       "      <td>False</td>\n",
       "      <td>17</td>\n",
       "      <td>Embark on an odyssey for the Lost Ark in a vas...</td>\n",
       "    </tr>\n",
       "    <tr>\n",
       "      <th>3</th>\n",
       "      <td>False</td>\n",
       "      <td>True</td>\n",
       "      <td>False</td>\n",
       "      <td>0</td>\n",
       "      <td>&lt;strong&gt;The most-played game on Steam.&lt;/strong...</td>\n",
       "    </tr>\n",
       "    <tr>\n",
       "      <th>4</th>\n",
       "      <td>True</td>\n",
       "      <td>False</td>\n",
       "      <td>False</td>\n",
       "      <td>18</td>\n",
       "      <td>&lt;h1&gt;Pacote Cyberpunk 2077 e Phantom Liberty&lt;/h...</td>\n",
       "    </tr>\n",
       "  </tbody>\n",
       "</table>\n",
       "</div>"
      ],
      "text/plain": [
       "     RPG  Strategy  Casual age  \\\n",
       "0  False     False   False   0   \n",
       "1  False     False   False   0   \n",
       "2   True     False   False  17   \n",
       "3  False      True   False   0   \n",
       "4   True     False   False  18   \n",
       "\n",
       "                                         description  \n",
       "0  <strong>LAND, LOOT, SURVIVE!</strong><br>Play ...  \n",
       "1  Counter-Strike: Global Offensive (CS: GO) expa...  \n",
       "2  Embark on an odyssey for the Lost Ark in a vas...  \n",
       "3  <strong>The most-played game on Steam.</strong...  \n",
       "4  <h1>Pacote Cyberpunk 2077 e Phantom Liberty</h...  "
      ]
     },
     "metadata": {},
     "output_type": "display_data"
    }
   ],
   "source": [
    "display(pd.DataFrame(dataset[:5]))"
   ]
  },
  {
   "cell_type": "markdown",
   "metadata": {},
   "source": [
    "## Setup Model"
   ]
  },
  {
   "cell_type": "code",
   "execution_count": 7,
   "metadata": {},
   "outputs": [],
   "source": [
    "config = PPOConfig(\n",
    "    model_name    = \"lvwerra/gpt2-imdb\",\n",
    "    learning_rate = 1.41e-5,\n",
    "    ## log_with      = \"wandb\",\n",
    ")\n",
    "\n",
    "sent_kwargs = {\n",
    "         \"return_all_scores\": True, \n",
    "         \"function_to_apply\": \"none\", \n",
    "         \"batch_size\": 16\n",
    "}\n",
    "\n",
    "with open('secrets.json') as f:\n",
    "    secrets = json.load(f)"
   ]
  },
  {
   "cell_type": "code",
   "execution_count": 8,
   "metadata": {},
   "outputs": [],
   "source": [
    "tokenizer           = AutoTokenizer.from_pretrained(config.model_name, token=secrets['huggingface-token'])\n",
    "tokenizer.pad_token = tokenizer.eos_token"
   ]
  },
  {
   "cell_type": "code",
   "execution_count": 9,
   "metadata": {},
   "outputs": [
    {
     "name": "stdout",
     "output_type": "stream",
     "text": [
      "<bound method Dataset.__len__ of Dataset({\n",
      "    features: ['RPG', 'Strategy', 'Casual', 'age', 'description', 'input_ids', 'query'],\n",
      "    num_rows: 704\n",
      "})>\n"
     ]
    }
   ],
   "source": [
    "def tokenize(sample):\n",
    "        input_size = LengthSampler(2, 8)\n",
    "        sample[\"input_ids\"] = tokenizer.encode( sample[\"description\"]    )[: input_size()]\n",
    "        sample[\"query\"]     = tokenizer.decode( sample[\"input_ids\"] )\n",
    "        return sample\n",
    "\n",
    "dataset = dataset.filter(lambda x: x['description'] != None and len(x[\"description\"]) > 200 and len(x['description']) < 1024\n",
    "                         , batched=False)\n",
    "dataset = dataset.map(tokenize, batched=False)\n",
    "dataset.set_format(type=\"torch\")\n",
    "print(dataset.__len__)"
   ]
  },
  {
   "cell_type": "code",
   "execution_count": 10,
   "metadata": {},
   "outputs": [],
   "source": [
    "def collator(data):\n",
    "    return dict((key, [d[key] for d in data]) for key in data[0])"
   ]
  },
  {
   "cell_type": "code",
   "execution_count": 11,
   "metadata": {},
   "outputs": [
    {
     "name": "stderr",
     "output_type": "stream",
     "text": [
      "C:\\Users\\joeya\\anaconda3\\envs\\its520v2\\lib\\site-packages\\torch\\_utils.py:831: UserWarning: TypedStorage is deprecated. It will be removed in the future and UntypedStorage will be the only storage class. This should only matter to you if you are using storages directly.  To access UntypedStorage directly, use tensor.untyped_storage() instead of tensor.storage()\n",
      "  return self.fget.__get__(instance, owner)()\n"
     ]
    },
    {
     "name": "stdout",
     "output_type": "stream",
     "text": [
      "AutoModelForCausalLMWithValueHead(\n",
      "  (pretrained_model): GPT2LMHeadModel(\n",
      "    (transformer): GPT2Model(\n",
      "      (wte): Embedding(50257, 768)\n",
      "      (wpe): Embedding(1024, 768)\n",
      "      (drop): Dropout(p=0.1, inplace=False)\n",
      "      (h): ModuleList(\n",
      "        (0-11): 12 x GPT2Block(\n",
      "          (ln_1): LayerNorm((768,), eps=1e-05, elementwise_affine=True)\n",
      "          (attn): GPT2Attention(\n",
      "            (c_attn): Conv1D()\n",
      "            (c_proj): Conv1D()\n",
      "            (attn_dropout): Dropout(p=0.1, inplace=False)\n",
      "            (resid_dropout): Dropout(p=0.1, inplace=False)\n",
      "          )\n",
      "          (ln_2): LayerNorm((768,), eps=1e-05, elementwise_affine=True)\n",
      "          (mlp): GPT2MLP(\n",
      "            (c_fc): Conv1D()\n",
      "            (c_proj): Conv1D()\n",
      "            (act): NewGELUActivation()\n",
      "            (dropout): Dropout(p=0.1, inplace=False)\n",
      "          )\n",
      "        )\n",
      "      )\n",
      "      (ln_f): LayerNorm((768,), eps=1e-05, elementwise_affine=True)\n",
      "    )\n",
      "    (lm_head): Linear(in_features=768, out_features=50257, bias=False)\n",
      "  )\n",
      "  (v_head): ValueHead(\n",
      "    (dropout): Dropout(p=0.1, inplace=False)\n",
      "    (summary): Linear(in_features=768, out_features=1, bias=True)\n",
      "    (flatten): Flatten(start_dim=1, end_dim=-1)\n",
      "  )\n",
      ")\n"
     ]
    }
   ],
   "source": [
    "model     = AutoModelForCausalLMWithValueHead.from_pretrained(config.model_name, token=secrets['huggingface-token'])\n",
    "ref_model = AutoModelForCausalLMWithValueHead.from_pretrained(config.model_name, token=secrets['huggingface-token'])\n",
    "\n",
    "ppo_trainer = PPOTrainer(\n",
    "                 config, \n",
    "                 model, \n",
    "                 ref_model, \n",
    "                 tokenizer, \n",
    "                 dataset=dataset, \n",
    "                 data_collator=collator\n",
    ")\n",
    "\n",
    "device = 'cuda'\n",
    "print(model)"
   ]
  },
  {
   "cell_type": "markdown",
   "metadata": {},
   "source": [
    "## Load Classifier (Reward Functino)"
   ]
  },
  {
   "cell_type": "code",
   "execution_count": 12,
   "metadata": {},
   "outputs": [
    {
     "name": "stdout",
     "output_type": "stream",
     "text": [
      "GPT2TokenizerFast(name_or_path='lvwerra/gpt2-imdb', vocab_size=50257, model_max_length=1024, is_fast=True, padding_side='right', truncation_side='right', special_tokens={'bos_token': '<|endoftext|>', 'eos_token': '<|endoftext|>', 'unk_token': '<|endoftext|>', 'pad_token': '<|endoftext|>'}, clean_up_tokenization_spaces=True),  added_tokens_decoder={\n",
      "\t50256: AddedToken(\"<|endoftext|>\", rstrip=False, lstrip=False, single_word=False, normalized=True, special=True),\n",
      "}\n"
     ]
    }
   ],
   "source": [
    "# i guess it makes sense they cant have the same tokenizer\n",
    "model_class     = BertForSequenceClassification.from_pretrained(f\"{rlhf}-model/final-trainer\")\n",
    "tokenizer_class = BertTokenizerFast.from_pretrained(\"bert-base-uncased\")\n",
    "print(tokenizer)\n",
    "\n",
    "sent_kwargs = {\n",
    "         \"return_all_scores\": True, \n",
    "         \"function_to_apply\": \"none\", \n",
    "         \"batch_size\": 16\n",
    "}\n",
    "\n",
    "nlp = pipeline(\"sentiment-analysis\", model=model_class, tokenizer=tokenizer_class, device=device)"
   ]
  },
  {
   "cell_type": "code",
   "execution_count": 13,
   "metadata": {},
   "outputs": [
    {
     "name": "stderr",
     "output_type": "stream",
     "text": [
      "C:\\Users\\joeya\\anaconda3\\envs\\its520v2\\lib\\site-packages\\transformers\\pipelines\\text_classification.py:104: UserWarning: `return_all_scores` is now deprecated,  if want a similar functionality use `top_k=None` instead of `return_all_scores=True` or `top_k=1` instead of `return_all_scores=False`.\n",
      "  warnings.warn(\n"
     ]
    },
    {
     "data": {
      "text/plain": [
       "[[{'label': 'RPG', 'score': -0.17563088238239288},\n",
       "  {'label': 'Strategy', 'score': -1.0779798030853271},\n",
       "  {'label': 'Casual', 'score': 0.7542895078659058}]]"
      ]
     },
     "execution_count": 13,
     "metadata": {},
     "output_type": "execute_result"
    }
   ],
   "source": [
    "text = \"For hearing-impaired university student Yuki Itose, silence has been a natural part of life since birth. Her world is small and isolated; she commutes to campus, interacts with her best friend Rin Fujishiro, and communicates through writing and text messages—a lifestyle that offers little to no change. One day, during her commute, Yuki meets fellow student Itsuomi Nagi, a multilingual travel enthusiast and friend of Rin. When Itsuomi learns of Yuki's condition, he takes it in stride, moving Yuki's heart. From this one simple gesture, Yuki and Itsuomi's lives start changing day by day as they let each other into their own worlds.\"\n",
    "nlp(text, **sent_kwargs)"
   ]
  },
  {
   "cell_type": "markdown",
   "metadata": {},
   "source": [
    "## Generator"
   ]
  },
  {
   "cell_type": "code",
   "execution_count": 14,
   "metadata": {},
   "outputs": [],
   "source": [
    "gen_kwargs = {\n",
    "         \"min_length\":   -1, \n",
    "         \"top_k\":       0.0, \n",
    "         \"top_p\":       1.0, \n",
    "         \"do_sample\":  True, \n",
    "         \"pad_token_id\": tokenizer.eos_token_id,\n",
    "}"
   ]
  },
  {
   "cell_type": "code",
   "execution_count": 15,
   "metadata": {},
   "outputs": [],
   "source": [
    "output_min_length     = 4\n",
    "output_max_length     = 16\n",
    "output_length_sampler = LengthSampler(output_min_length, output_max_length)"
   ]
  },
  {
   "cell_type": "code",
   "execution_count": 16,
   "metadata": {},
   "outputs": [
    {
     "name": "stderr",
     "output_type": "stream",
     "text": [
      "PPO: 100%|███████████████████████████████████████████████████████████████████████████████| 5/5 [04:34<00:00, 54.86s/it]\n"
     ]
    }
   ],
   "source": [
    "pbar = tqdm.tqdm(enumerate(ppo_trainer.dataloader), total=len(ppo_trainer.dataloader))\n",
    "for epoch, batch in pbar:\n",
    "    query_tensors = batch[\"input_ids\"]\n",
    "\n",
    "    #### Get response from gpt2\n",
    "    response_tensors = []\n",
    "    for i, query in enumerate(query_tensors):\n",
    "        pbar.set_description(f\"{i} / {len(query_tensors)}\")\n",
    "        gen_len                             = output_length_sampler()\n",
    "        gen_kwargs[\"max_new_tokens\"] = gen_len\n",
    "        response                            = ppo_trainer.generate(query, **gen_kwargs)\n",
    "        response_tensors.append( response.squeeze()[-gen_len:] )\n",
    "    batch[\"response\"] = [ tokenizer.decode(r.squeeze()) for r in response_tensors ]\n",
    "\n",
    "    #### Compute sentiment score\n",
    "    pbar.set_description(\"Sentiment\")\n",
    "    texts = [q + r for q, r in zip(batch[\"query\"], batch[\"response\"])]\n",
    "    pipe_outputs = nlp(texts, **sent_kwargs)\n",
    "    rewards = [ torch.tensor(output[2][\"score\"]) for output in pipe_outputs]\n",
    "\n",
    "    #### Run PPO step\n",
    "    pbar.set_description(\"PPO\")\n",
    "    stats = ppo_trainer.step(\n",
    "                     query_tensors, \n",
    "                     response_tensors, \n",
    "                     rewards\n",
    "    )\n",
    "    ppo_trainer.log_stats(stats, batch, rewards)"
   ]
  },
  {
   "cell_type": "markdown",
   "metadata": {},
   "source": [
    "## Get the Results"
   ]
  },
  {
   "cell_type": "code",
   "execution_count": 17,
   "metadata": {},
   "outputs": [
    {
     "data": {
      "text/html": [
       "<div>\n",
       "<style scoped>\n",
       "    .dataframe tbody tr th:only-of-type {\n",
       "        vertical-align: middle;\n",
       "    }\n",
       "\n",
       "    .dataframe tbody tr th {\n",
       "        vertical-align: top;\n",
       "    }\n",
       "\n",
       "    .dataframe thead th {\n",
       "        text-align: right;\n",
       "    }\n",
       "</style>\n",
       "<table border=\"1\" class=\"dataframe\">\n",
       "  <thead>\n",
       "    <tr style=\"text-align: right;\">\n",
       "      <th></th>\n",
       "      <th>RPG</th>\n",
       "      <th>Strategy</th>\n",
       "      <th>Casual</th>\n",
       "      <th>age</th>\n",
       "      <th>description</th>\n",
       "      <th>input_ids</th>\n",
       "      <th>query</th>\n",
       "    </tr>\n",
       "  </thead>\n",
       "  <tbody>\n",
       "    <tr>\n",
       "      <th>18</th>\n",
       "      <td>False</td>\n",
       "      <td>False</td>\n",
       "      <td>True</td>\n",
       "      <td>0</td>\n",
       "      <td>Meet beautiful girls and spend time in their c...</td>\n",
       "      <td>[29318, 4950]</td>\n",
       "      <td>Meet beautiful</td>\n",
       "    </tr>\n",
       "    <tr>\n",
       "      <th>337</th>\n",
       "      <td>False</td>\n",
       "      <td>False</td>\n",
       "      <td>True</td>\n",
       "      <td>0</td>\n",
       "      <td>Spikit is a bullet hell game developed by a si...</td>\n",
       "      <td>[4561, 1134, 270, 318, 257]</td>\n",
       "      <td>Spikit is a</td>\n",
       "    </tr>\n",
       "    <tr>\n",
       "      <th>174</th>\n",
       "      <td>False</td>\n",
       "      <td>True</td>\n",
       "      <td>True</td>\n",
       "      <td>0</td>\n",
       "      <td>Sometimes: Success Requires Sacrifice, the tit...</td>\n",
       "      <td>[15468, 25, 16282]</td>\n",
       "      <td>Sometimes: Success</td>\n",
       "    </tr>\n",
       "    <tr>\n",
       "      <th>51</th>\n",
       "      <td>False</td>\n",
       "      <td>True</td>\n",
       "      <td>True</td>\n",
       "      <td>0</td>\n",
       "      <td>A chaotic strategy game with cubes!&lt;br&gt;&lt;br&gt;You...</td>\n",
       "      <td>[32, 23458, 4811, 983]</td>\n",
       "      <td>A chaotic strategy game</td>\n",
       "    </tr>\n",
       "    <tr>\n",
       "      <th>498</th>\n",
       "      <td>False</td>\n",
       "      <td>False</td>\n",
       "      <td>False</td>\n",
       "      <td>0</td>\n",
       "      <td>ESEA is a third party matchmaking service that...</td>\n",
       "      <td>[1546, 16412, 318, 257, 2368, 2151]</td>\n",
       "      <td>ESEA is a third party</td>\n",
       "    </tr>\n",
       "    <tr>\n",
       "      <th>63</th>\n",
       "      <td>False</td>\n",
       "      <td>False</td>\n",
       "      <td>False</td>\n",
       "      <td>0</td>\n",
       "      <td>&amp;quot;The ultimate depiction of the Three King...</td>\n",
       "      <td>[5, 421, 313, 26]</td>\n",
       "      <td>&amp;quot;</td>\n",
       "    </tr>\n",
       "    <tr>\n",
       "      <th>264</th>\n",
       "      <td>False</td>\n",
       "      <td>False</td>\n",
       "      <td>True</td>\n",
       "      <td>0</td>\n",
       "      <td>Broken Age is a family friendly, hand-animated...</td>\n",
       "      <td>[15783, 3464, 7129, 318, 257, 1641]</td>\n",
       "      <td>Broken Age is a family</td>\n",
       "    </tr>\n",
       "    <tr>\n",
       "      <th>12</th>\n",
       "      <td>False</td>\n",
       "      <td>False</td>\n",
       "      <td>True</td>\n",
       "      <td>0</td>\n",
       "      <td>Welcome to HOLOCURE!&lt;br /&gt;\\r\\n&lt;br /&gt;\\r\\nThis i...</td>\n",
       "      <td>[14618, 284, 49707, 4503, 11335, 0, 27]</td>\n",
       "      <td>Welcome to HOLOCURE!&lt;</td>\n",
       "    </tr>\n",
       "    <tr>\n",
       "      <th>609</th>\n",
       "      <td>False</td>\n",
       "      <td>False</td>\n",
       "      <td>False</td>\n",
       "      <td>0</td>\n",
       "      <td>&lt;h1&gt;Buzz&lt;/h1&gt;&lt;p&gt;&lt;a href=\"http://store.steampow...</td>\n",
       "      <td>[27, 71, 16, 29, 48230, 3556, 71]</td>\n",
       "      <td>&lt;h1&gt;Buzz&lt;/h</td>\n",
       "    </tr>\n",
       "    <tr>\n",
       "      <th>125</th>\n",
       "      <td>False</td>\n",
       "      <td>False</td>\n",
       "      <td>False</td>\n",
       "      <td>0</td>\n",
       "      <td>Dungeon of Zolthan is a casual, arcade-style m...</td>\n",
       "      <td>[30128, 6281, 286]</td>\n",
       "      <td>Dungeon of</td>\n",
       "    </tr>\n",
       "    <tr>\n",
       "      <th>504</th>\n",
       "      <td>False</td>\n",
       "      <td>True</td>\n",
       "      <td>False</td>\n",
       "      <td>0</td>\n",
       "      <td>&lt;img src=\"https://cdn.akamai.steamstatic.com/s...</td>\n",
       "      <td>[27, 9600]</td>\n",
       "      <td>&lt;img</td>\n",
       "    </tr>\n",
       "    <tr>\n",
       "      <th>222</th>\n",
       "      <td>False</td>\n",
       "      <td>False</td>\n",
       "      <td>True</td>\n",
       "      <td>0</td>\n",
       "      <td>&lt;strong&gt;$1 Ride&lt;/strong&gt; is a casual game with...</td>\n",
       "      <td>[27, 11576, 29, 3, 16]</td>\n",
       "      <td>&lt;strong&gt;$1</td>\n",
       "    </tr>\n",
       "    <tr>\n",
       "      <th>528</th>\n",
       "      <td>False</td>\n",
       "      <td>False</td>\n",
       "      <td>False</td>\n",
       "      <td>0</td>\n",
       "      <td>&lt;strong&gt;Bleeding Border&lt;/strong&gt; is a 3d survi...</td>\n",
       "      <td>[27, 11576, 29]</td>\n",
       "      <td>&lt;strong&gt;</td>\n",
       "    </tr>\n",
       "    <tr>\n",
       "      <th>396</th>\n",
       "      <td>False</td>\n",
       "      <td>False</td>\n",
       "      <td>False</td>\n",
       "      <td>17</td>\n",
       "      <td>In the DOOM Demo, Fight Like Hell through the ...</td>\n",
       "      <td>[818, 262]</td>\n",
       "      <td>In the</td>\n",
       "    </tr>\n",
       "    <tr>\n",
       "      <th>172</th>\n",
       "      <td>False</td>\n",
       "      <td>False</td>\n",
       "      <td>True</td>\n",
       "      <td>0</td>\n",
       "      <td>Hentai is not just 2D girls, this is a whole a...</td>\n",
       "      <td>[39, 298]</td>\n",
       "      <td>Hent</td>\n",
       "    </tr>\n",
       "    <tr>\n",
       "      <th>122</th>\n",
       "      <td>True</td>\n",
       "      <td>True</td>\n",
       "      <td>True</td>\n",
       "      <td>0</td>\n",
       "      <td>&lt;strong&gt;Congratulations! You, my friend, are o...</td>\n",
       "      <td>[27, 11576, 29, 45048, 0, 921]</td>\n",
       "      <td>&lt;strong&gt;Congratulations! You</td>\n",
       "    </tr>\n",
       "  </tbody>\n",
       "</table>\n",
       "</div>"
      ],
      "text/plain": [
       "       RPG  Strategy  Casual age  \\\n",
       "18   False     False    True   0   \n",
       "337  False     False    True   0   \n",
       "174  False      True    True   0   \n",
       "51   False      True    True   0   \n",
       "498  False     False   False   0   \n",
       "63   False     False   False   0   \n",
       "264  False     False    True   0   \n",
       "12   False     False    True   0   \n",
       "609  False     False   False   0   \n",
       "125  False     False   False   0   \n",
       "504  False      True   False   0   \n",
       "222  False     False    True   0   \n",
       "528  False     False   False   0   \n",
       "396  False     False   False  17   \n",
       "172  False     False    True   0   \n",
       "122   True      True    True   0   \n",
       "\n",
       "                                           description  \\\n",
       "18   Meet beautiful girls and spend time in their c...   \n",
       "337  Spikit is a bullet hell game developed by a si...   \n",
       "174  Sometimes: Success Requires Sacrifice, the tit...   \n",
       "51   A chaotic strategy game with cubes!<br><br>You...   \n",
       "498  ESEA is a third party matchmaking service that...   \n",
       "63   &quot;The ultimate depiction of the Three King...   \n",
       "264  Broken Age is a family friendly, hand-animated...   \n",
       "12   Welcome to HOLOCURE!<br />\\r\\n<br />\\r\\nThis i...   \n",
       "609  <h1>Buzz</h1><p><a href=\"http://store.steampow...   \n",
       "125  Dungeon of Zolthan is a casual, arcade-style m...   \n",
       "504  <img src=\"https://cdn.akamai.steamstatic.com/s...   \n",
       "222  <strong>$1 Ride</strong> is a casual game with...   \n",
       "528  <strong>Bleeding Border</strong> is a 3d survi...   \n",
       "396  In the DOOM Demo, Fight Like Hell through the ...   \n",
       "172  Hentai is not just 2D girls, this is a whole a...   \n",
       "122  <strong>Congratulations! You, my friend, are o...   \n",
       "\n",
       "                                   input_ids                         query  \n",
       "18                             [29318, 4950]                Meet beautiful  \n",
       "337              [4561, 1134, 270, 318, 257]                   Spikit is a  \n",
       "174                       [15468, 25, 16282]            Sometimes: Success  \n",
       "51                    [32, 23458, 4811, 983]       A chaotic strategy game  \n",
       "498      [1546, 16412, 318, 257, 2368, 2151]         ESEA is a third party  \n",
       "63                         [5, 421, 313, 26]                        &quot;  \n",
       "264      [15783, 3464, 7129, 318, 257, 1641]        Broken Age is a family  \n",
       "12   [14618, 284, 49707, 4503, 11335, 0, 27]         Welcome to HOLOCURE!<  \n",
       "609        [27, 71, 16, 29, 48230, 3556, 71]                   <h1>Buzz</h  \n",
       "125                       [30128, 6281, 286]                    Dungeon of  \n",
       "504                               [27, 9600]                          <img  \n",
       "222                   [27, 11576, 29, 3, 16]                    <strong>$1  \n",
       "528                          [27, 11576, 29]                      <strong>  \n",
       "396                               [818, 262]                        In the  \n",
       "172                                [39, 298]                          Hent  \n",
       "122           [27, 11576, 29, 45048, 0, 921]  <strong>Congratulations! You  "
      ]
     },
     "execution_count": 17,
     "metadata": {},
     "output_type": "execute_result"
    }
   ],
   "source": [
    "bs                 = 16\n",
    "game_data          = {}\n",
    "\n",
    "dataset.set_format(\"pandas\")\n",
    "df_batch           = dataset[:].sample(bs)\n",
    "df_batch "
   ]
  },
  {
   "cell_type": "code",
   "execution_count": 18,
   "metadata": {},
   "outputs": [],
   "source": [
    "game_data[\"query\"] = df_batch[\"query\"].tolist()\n",
    "query_tensors      = df_batch[\"input_ids\"].tolist()\n",
    "response_tensors_ref, response_tensors = [], []\n",
    "#### get response from gpt2 and gpt2_ref\n",
    "for i in range(bs):\n",
    "    gen_len = output_length_sampler()\n",
    "    \n",
    "    output  = ref_model.generate(\n",
    "        torch.tensor(query_tensors[i]).unsqueeze(dim=0).to(device), **gen_kwargs\n",
    "    ).squeeze()[-gen_len:]\n",
    "    response_tensors_ref.append(output)\n",
    "    \n",
    "    \n",
    "    output = model.generate(\n",
    "        torch.tensor(query_tensors[i]).unsqueeze(dim=0).to(device), **gen_kwargs\n",
    "    ).squeeze()[-gen_len:]\n",
    "    response_tensors.append(output)"
   ]
  },
  {
   "cell_type": "code",
   "execution_count": 19,
   "metadata": {},
   "outputs": [
    {
     "name": "stderr",
     "output_type": "stream",
     "text": [
      "C:\\Users\\joeya\\anaconda3\\envs\\its520v2\\lib\\site-packages\\transformers\\pipelines\\text_classification.py:104: UserWarning: `return_all_scores` is now deprecated,  if want a similar functionality use `top_k=None` instead of `return_all_scores=True` or `top_k=1` instead of `return_all_scores=False`.\n",
      "  warnings.warn(\n"
     ]
    },
    {
     "data": {
      "text/html": [
       "<div>\n",
       "<style scoped>\n",
       "    .dataframe tbody tr th:only-of-type {\n",
       "        vertical-align: middle;\n",
       "    }\n",
       "\n",
       "    .dataframe tbody tr th {\n",
       "        vertical-align: top;\n",
       "    }\n",
       "\n",
       "    .dataframe thead th {\n",
       "        text-align: right;\n",
       "    }\n",
       "</style>\n",
       "<table border=\"1\" class=\"dataframe\">\n",
       "  <thead>\n",
       "    <tr style=\"text-align: right;\">\n",
       "      <th></th>\n",
       "      <th>query</th>\n",
       "      <th>response (before)</th>\n",
       "      <th>response (after)</th>\n",
       "      <th>rewards (before)</th>\n",
       "      <th>rewards (after)</th>\n",
       "    </tr>\n",
       "  </thead>\n",
       "  <tbody>\n",
       "    <tr>\n",
       "      <th>0</th>\n",
       "      <td>Meet beautiful</td>\n",
       "      <td>which appears to be a shabby funhouse</td>\n",
       "      <td>Meet beautiful and humanly accessible.\\n&lt;|endo...</td>\n",
       "      <td>1.987484</td>\n",
       "      <td>1.234699</td>\n",
       "    </tr>\n",
       "    <tr>\n",
       "      <th>1</th>\n",
       "      <td>Spikit is a</td>\n",
       "      <td>helps his daughter care for his little sister</td>\n",
       "      <td>strengths and undoubtedly all the flaws to be</td>\n",
       "      <td>1.338162</td>\n",
       "      <td>0.979596</td>\n",
       "    </tr>\n",
       "    <tr>\n",
       "      <th>2</th>\n",
       "      <td>Sometimes: Success</td>\n",
       "      <td>Sometimes: Successful low-rent films from Jona...</td>\n",
       "      <td>Sometimes: Success and probably repressed succ...</td>\n",
       "      <td>1.477527</td>\n",
       "      <td>1.372287</td>\n",
       "    </tr>\n",
       "    <tr>\n",
       "      <th>3</th>\n",
       "      <td>A chaotic strategy game</td>\n",
       "      <td>chaotic strategy game that lacks any human in...</td>\n",
       "      <td>chaotic strategy game, though it sounds very ...</td>\n",
       "      <td>0.351071</td>\n",
       "      <td>0.323740</td>\n",
       "    </tr>\n",
       "    <tr>\n",
       "      <th>4</th>\n",
       "      <td>ESEA is a third party</td>\n",
       "      <td>attention (or move it) to</td>\n",
       "      <td>&gt;&lt;br /&gt;If you look centuries</td>\n",
       "      <td>1.202083</td>\n",
       "      <td>0.869735</td>\n",
       "    </tr>\n",
       "    <tr>\n",
       "      <th>5</th>\n",
       "      <td>&amp;quot;</td>\n",
       "      <td>further than a warning</td>\n",
       "      <td>title girl in the</td>\n",
       "      <td>0.642475</td>\n",
       "      <td>0.954562</td>\n",
       "    </tr>\n",
       "    <tr>\n",
       "      <th>6</th>\n",
       "      <td>Broken Age is a family</td>\n",
       "      <td>reasons). Folks like Chappelle,</td>\n",
       "      <td>really like my babies. Pregnant is</td>\n",
       "      <td>1.062482</td>\n",
       "      <td>0.703955</td>\n",
       "    </tr>\n",
       "    <tr>\n",
       "      <th>7</th>\n",
       "      <td>Welcome to HOLOCURE!&lt;</td>\n",
       "      <td>Díaz is a</td>\n",
       "      <td>is a masterpiece. It</td>\n",
       "      <td>1.293093</td>\n",
       "      <td>1.608545</td>\n",
       "    </tr>\n",
       "    <tr>\n",
       "      <th>8</th>\n",
       "      <td>&lt;h1&gt;Buzz&lt;/h</td>\n",
       "      <td>/&gt;The Captain was made by The Crimson Tide</td>\n",
       "      <td>and four models quickly jockey up a hill</td>\n",
       "      <td>0.270884</td>\n",
       "      <td>1.617888</td>\n",
       "    </tr>\n",
       "    <tr>\n",
       "      <th>9</th>\n",
       "      <td>Dungeon of</td>\n",
       "      <td>Dungeon of Elven IV features a terrible side e...</td>\n",
       "      <td>Dungeon of Bog Valley. Despite its reputation ...</td>\n",
       "      <td>-1.040911</td>\n",
       "      <td>0.099277</td>\n",
       "    </tr>\n",
       "    <tr>\n",
       "      <th>10</th>\n",
       "      <td>&lt;img</td>\n",
       "      <td>/&gt; This movie has TRA</td>\n",
       "      <td>viewer at heart, and</td>\n",
       "      <td>0.748989</td>\n",
       "      <td>0.678161</td>\n",
       "    </tr>\n",
       "    <tr>\n",
       "      <th>11</th>\n",
       "      <td>&lt;strong&gt;$1</td>\n",
       "      <td>between Sky Warrior and Tanks</td>\n",
       "      <td>putting it in your top</td>\n",
       "      <td>0.840126</td>\n",
       "      <td>1.439668</td>\n",
       "    </tr>\n",
       "    <tr>\n",
       "      <th>12</th>\n",
       "      <td>&lt;strong&gt;</td>\n",
       "      <td>&lt;strong&gt;Congratulations.\"&lt;|endoftext|&gt;</td>\n",
       "      <td>magnify black spectacle: what am I supposed to...</td>\n",
       "      <td>0.182864</td>\n",
       "      <td>1.151933</td>\n",
       "    </tr>\n",
       "    <tr>\n",
       "      <th>13</th>\n",
       "      <td>In the</td>\n",
       "      <td>In the documentary, once to its end, the film ...</td>\n",
       "      <td>In the last 150 or so years, this artists beca...</td>\n",
       "      <td>0.698945</td>\n",
       "      <td>0.376764</td>\n",
       "    </tr>\n",
       "    <tr>\n",
       "      <th>14</th>\n",
       "      <td>Hent</td>\n",
       "      <td>User Group, and say \"Surely you can be</td>\n",
       "      <td>&lt;br /&gt;&lt;br /&gt;Consists43 of Pract</td>\n",
       "      <td>1.558319</td>\n",
       "      <td>0.124871</td>\n",
       "    </tr>\n",
       "    <tr>\n",
       "      <th>15</th>\n",
       "      <td>&lt;strong&gt;Congratulations! You</td>\n",
       "      <td>You are now eleven years old, again.&lt;br /&gt;&lt;br</td>\n",
       "      <td>You woud never heard about this gangster, but...</td>\n",
       "      <td>1.057739</td>\n",
       "      <td>1.166743</td>\n",
       "    </tr>\n",
       "  </tbody>\n",
       "</table>\n",
       "</div>"
      ],
      "text/plain": [
       "                           query  \\\n",
       "0                 Meet beautiful   \n",
       "1                    Spikit is a   \n",
       "2             Sometimes: Success   \n",
       "3        A chaotic strategy game   \n",
       "4          ESEA is a third party   \n",
       "5                         &quot;   \n",
       "6         Broken Age is a family   \n",
       "7          Welcome to HOLOCURE!<   \n",
       "8                    <h1>Buzz</h   \n",
       "9                     Dungeon of   \n",
       "10                          <img   \n",
       "11                    <strong>$1   \n",
       "12                      <strong>   \n",
       "13                        In the   \n",
       "14                          Hent   \n",
       "15  <strong>Congratulations! You   \n",
       "\n",
       "                                    response (before)  \\\n",
       "0               which appears to be a shabby funhouse   \n",
       "1       helps his daughter care for his little sister   \n",
       "2   Sometimes: Successful low-rent films from Jona...   \n",
       "3    chaotic strategy game that lacks any human in...   \n",
       "4                           attention (or move it) to   \n",
       "5                              further than a warning   \n",
       "6                     reasons). Folks like Chappelle,   \n",
       "7                                           Díaz is a   \n",
       "8          />The Captain was made by The Crimson Tide   \n",
       "9   Dungeon of Elven IV features a terrible side e...   \n",
       "10                              /> This movie has TRA   \n",
       "11                      between Sky Warrior and Tanks   \n",
       "12             <strong>Congratulations.\"<|endoftext|>   \n",
       "13  In the documentary, once to its end, the film ...   \n",
       "14             User Group, and say \"Surely you can be   \n",
       "15      You are now eleven years old, again.<br /><br   \n",
       "\n",
       "                                     response (after)  rewards (before)  \\\n",
       "0   Meet beautiful and humanly accessible.\\n<|endo...          1.987484   \n",
       "1       strengths and undoubtedly all the flaws to be          1.338162   \n",
       "2   Sometimes: Success and probably repressed succ...          1.477527   \n",
       "3    chaotic strategy game, though it sounds very ...          0.351071   \n",
       "4                        ><br />If you look centuries          1.202083   \n",
       "5                                   title girl in the          0.642475   \n",
       "6                  really like my babies. Pregnant is          1.062482   \n",
       "7                                is a masterpiece. It          1.293093   \n",
       "8            and four models quickly jockey up a hill          0.270884   \n",
       "9   Dungeon of Bog Valley. Despite its reputation ...         -1.040911   \n",
       "10                               viewer at heart, and          0.748989   \n",
       "11                             putting it in your top          0.840126   \n",
       "12  magnify black spectacle: what am I supposed to...          0.182864   \n",
       "13  In the last 150 or so years, this artists beca...          0.698945   \n",
       "14                    <br /><br />Consists43 of Pract          1.558319   \n",
       "15   You woud never heard about this gangster, but...          1.057739   \n",
       "\n",
       "    rewards (after)  \n",
       "0          1.234699  \n",
       "1          0.979596  \n",
       "2          1.372287  \n",
       "3          0.323740  \n",
       "4          0.869735  \n",
       "5          0.954562  \n",
       "6          0.703955  \n",
       "7          1.608545  \n",
       "8          1.617888  \n",
       "9          0.099277  \n",
       "10         0.678161  \n",
       "11         1.439668  \n",
       "12         1.151933  \n",
       "13         0.376764  \n",
       "14         0.124871  \n",
       "15         1.166743  "
      ]
     },
     "execution_count": 19,
     "metadata": {},
     "output_type": "execute_result"
    }
   ],
   "source": [
    "game_data[\"response (before)\"] = [tokenizer.decode(response_tensors_ref[i]) for i in range(bs)]\n",
    "game_data[\"response (after)\"]  = [tokenizer.decode(response_tensors[i]) for i in range(bs)]\n",
    "\n",
    "#### sentiment analysis of query/response pairs before/after\n",
    "texts = [q + r for q, r in zip(game_data[\"query\"], game_data[\"response (before)\"])]\n",
    "game_data[\"rewards (before)\"] = [output[2][\"score\"] for output in nlp(texts, **sent_kwargs)]\n",
    "\n",
    "texts = [q + r for q, r in zip(game_data[\"query\"], game_data[\"response (after)\"])]\n",
    "game_data[\"rewards (after)\"] = [output[2][\"score\"] for output in nlp(texts, **sent_kwargs)]\n",
    "\n",
    "# store results in a dataframe\n",
    "df_results = pd.DataFrame(game_data)\n",
    "df_results"
   ]
  },
  {
   "cell_type": "code",
   "execution_count": 20,
   "metadata": {},
   "outputs": [
    {
     "name": "stdout",
     "output_type": "stream",
     "text": [
      "mean:\n"
     ]
    },
    {
     "data": {
      "text/plain": [
       "rewards (before)    0.854458\n",
       "rewards (after)     0.918902\n",
       "dtype: float64"
      ]
     },
     "metadata": {},
     "output_type": "display_data"
    },
    {
     "name": "stdout",
     "output_type": "stream",
     "text": [
      "\n",
      "median:\n"
     ]
    },
    {
     "data": {
      "text/plain": [
       "rewards (before)    0.948932\n",
       "rewards (after)     0.967079\n",
       "dtype: float64"
      ]
     },
     "metadata": {},
     "output_type": "display_data"
    }
   ],
   "source": [
    "print(\"mean:\")\n",
    "display(df_results[[\"rewards (before)\", \"rewards (after)\"]].mean())\n",
    "print()\n",
    "print(\"median:\")\n",
    "display(df_results[[\"rewards (before)\", \"rewards (after)\"]].median())"
   ]
  },
  {
   "cell_type": "markdown",
   "metadata": {},
   "source": [
    "## Save the Model"
   ]
  },
  {
   "cell_type": "code",
   "execution_count": 21,
   "metadata": {},
   "outputs": [
    {
     "data": {
      "text/plain": [
       "('steam-model/gpt2-horror\\\\tokenizer_config.json',\n",
       " 'steam-model/gpt2-horror\\\\special_tokens_map.json',\n",
       " 'steam-model/gpt2-horror\\\\vocab.json',\n",
       " 'steam-model/gpt2-horror\\\\merges.txt',\n",
       " 'steam-model/gpt2-horror\\\\added_tokens.json',\n",
       " 'steam-model/gpt2-horror\\\\tokenizer.json')"
      ]
     },
     "execution_count": 21,
     "metadata": {},
     "output_type": "execute_result"
    }
   ],
   "source": [
    "model.save_pretrained(    f\"{rlhf}-model/gpt2-horror\", push_to_hub=False)\n",
    "tokenizer.save_pretrained(f\"{rlhf}-model/gpt2-horror\", push_to_hub=False)"
   ]
  }
 ],
 "metadata": {
  "kernelspec": {
   "display_name": "Python 3 (ipykernel)",
   "language": "python",
   "name": "python3"
  },
  "language_info": {
   "codemirror_mode": {
    "name": "ipython",
    "version": 3
   },
   "file_extension": ".py",
   "mimetype": "text/x-python",
   "name": "python",
   "nbconvert_exporter": "python",
   "pygments_lexer": "ipython3",
   "version": "3.10.13"
  }
 },
 "nbformat": 4,
 "nbformat_minor": 4
}
